{
 "cells": [
  {
   "cell_type": "code",
   "execution_count": 1,
   "metadata": {},
   "outputs": [
    {
     "name": "stderr",
     "output_type": "stream",
     "text": [
      "Using TensorFlow backend.\n"
     ]
    }
   ],
   "source": [
    "# import all necessary libraries\n",
    "import pandas as pd\n",
    "import numpy as np\n",
    "\n",
    "# visualization\n",
    "import seaborn as sns\n",
    "import matplotlib.pyplot as plt\n",
    "\n",
    "#\n",
    "from sklearn.model_selection import train_test_split\n",
    "from imblearn.over_sampling import SMOTE\n",
    "from sklearn.utils import resample\n",
    "\n",
    "# model metrics \n",
    "from sklearn.model_selection import cross_val_score, cross_val_predict\n",
    "from sklearn.metrics import precision_score, recall_score\n",
    "from sklearn.metrics import f1_score\n",
    "\n",
    "# import models\n",
    "\n",
    "from sklearn.model_selection import train_test_split\n",
    "from sklearn.svm import LinearSVC\n",
    "from sklearn.ensemble import GradientBoostingClassifier, RandomForestClassifier\n",
    "from sklearn.linear_model import LinearRegression, LogisticRegression, SGDClassifier\n",
    "from sklearn.metrics import accuracy_score\n",
    "from sklearn.metrics import confusion_matrix\n",
    "from sklearn.ensemble import AdaBoostClassifier\n",
    "\n",
    "import os\n",
    "\n",
    "import warnings\n",
    "warnings.filterwarnings('ignore')"
   ]
  },
  {
   "cell_type": "code",
   "execution_count": 2,
   "metadata": {},
   "outputs": [
    {
     "data": {
      "text/html": [
       "<div>\n",
       "<style scoped>\n",
       "    .dataframe tbody tr th:only-of-type {\n",
       "        vertical-align: middle;\n",
       "    }\n",
       "\n",
       "    .dataframe tbody tr th {\n",
       "        vertical-align: top;\n",
       "    }\n",
       "\n",
       "    .dataframe thead th {\n",
       "        text-align: right;\n",
       "    }\n",
       "</style>\n",
       "<table border=\"1\" class=\"dataframe\">\n",
       "  <thead>\n",
       "    <tr style=\"text-align: right;\">\n",
       "      <th></th>\n",
       "      <th>age</th>\n",
       "      <th>job</th>\n",
       "      <th>marital</th>\n",
       "      <th>education</th>\n",
       "      <th>default</th>\n",
       "      <th>balance</th>\n",
       "      <th>housing</th>\n",
       "      <th>loan</th>\n",
       "      <th>contact</th>\n",
       "      <th>day</th>\n",
       "      <th>month</th>\n",
       "      <th>duration</th>\n",
       "      <th>campaign</th>\n",
       "      <th>pdays</th>\n",
       "      <th>previous</th>\n",
       "      <th>poutcome</th>\n",
       "      <th>y</th>\n",
       "    </tr>\n",
       "  </thead>\n",
       "  <tbody>\n",
       "    <tr>\n",
       "      <td>0</td>\n",
       "      <td>30</td>\n",
       "      <td>unemployed</td>\n",
       "      <td>married</td>\n",
       "      <td>primary</td>\n",
       "      <td>no</td>\n",
       "      <td>1787</td>\n",
       "      <td>no</td>\n",
       "      <td>no</td>\n",
       "      <td>cellular</td>\n",
       "      <td>19.0</td>\n",
       "      <td>oct</td>\n",
       "      <td>79.0</td>\n",
       "      <td>1</td>\n",
       "      <td>-1</td>\n",
       "      <td>0</td>\n",
       "      <td>unknown</td>\n",
       "      <td>no</td>\n",
       "    </tr>\n",
       "    <tr>\n",
       "      <td>1</td>\n",
       "      <td>33</td>\n",
       "      <td>services</td>\n",
       "      <td>married</td>\n",
       "      <td>secondary</td>\n",
       "      <td>no</td>\n",
       "      <td>4789</td>\n",
       "      <td>yes</td>\n",
       "      <td>yes</td>\n",
       "      <td>cellular</td>\n",
       "      <td>11.0</td>\n",
       "      <td>may</td>\n",
       "      <td>220.0</td>\n",
       "      <td>1</td>\n",
       "      <td>339</td>\n",
       "      <td>4</td>\n",
       "      <td>failure</td>\n",
       "      <td>no</td>\n",
       "    </tr>\n",
       "    <tr>\n",
       "      <td>2</td>\n",
       "      <td>35</td>\n",
       "      <td>management</td>\n",
       "      <td>single</td>\n",
       "      <td>tertiary</td>\n",
       "      <td>no</td>\n",
       "      <td>1350</td>\n",
       "      <td>yes</td>\n",
       "      <td>no</td>\n",
       "      <td>cellular</td>\n",
       "      <td>16.0</td>\n",
       "      <td>apr</td>\n",
       "      <td>185.0</td>\n",
       "      <td>1</td>\n",
       "      <td>330</td>\n",
       "      <td>1</td>\n",
       "      <td>failure</td>\n",
       "      <td>no</td>\n",
       "    </tr>\n",
       "    <tr>\n",
       "      <td>3</td>\n",
       "      <td>30</td>\n",
       "      <td>management</td>\n",
       "      <td>married</td>\n",
       "      <td>tertiary</td>\n",
       "      <td>no</td>\n",
       "      <td>1476</td>\n",
       "      <td>yes</td>\n",
       "      <td>yes</td>\n",
       "      <td>unknown</td>\n",
       "      <td>3.0</td>\n",
       "      <td>jun</td>\n",
       "      <td>199.0</td>\n",
       "      <td>4</td>\n",
       "      <td>-1</td>\n",
       "      <td>0</td>\n",
       "      <td>unknown</td>\n",
       "      <td>no</td>\n",
       "    </tr>\n",
       "    <tr>\n",
       "      <td>4</td>\n",
       "      <td>59</td>\n",
       "      <td>blue-collar</td>\n",
       "      <td>married</td>\n",
       "      <td>secondary</td>\n",
       "      <td>no</td>\n",
       "      <td>0</td>\n",
       "      <td>yes</td>\n",
       "      <td>no</td>\n",
       "      <td>unknown</td>\n",
       "      <td>5.0</td>\n",
       "      <td>may</td>\n",
       "      <td>226.0</td>\n",
       "      <td>1</td>\n",
       "      <td>-1</td>\n",
       "      <td>0</td>\n",
       "      <td>unknown</td>\n",
       "      <td>no</td>\n",
       "    </tr>\n",
       "    <tr>\n",
       "      <td>...</td>\n",
       "      <td>...</td>\n",
       "      <td>...</td>\n",
       "      <td>...</td>\n",
       "      <td>...</td>\n",
       "      <td>...</td>\n",
       "      <td>...</td>\n",
       "      <td>...</td>\n",
       "      <td>...</td>\n",
       "      <td>...</td>\n",
       "      <td>...</td>\n",
       "      <td>...</td>\n",
       "      <td>...</td>\n",
       "      <td>...</td>\n",
       "      <td>...</td>\n",
       "      <td>...</td>\n",
       "      <td>...</td>\n",
       "      <td>...</td>\n",
       "    </tr>\n",
       "    <tr>\n",
       "      <td>4516</td>\n",
       "      <td>33</td>\n",
       "      <td>services</td>\n",
       "      <td>married</td>\n",
       "      <td>secondary</td>\n",
       "      <td>no</td>\n",
       "      <td>-333</td>\n",
       "      <td>yes</td>\n",
       "      <td>no</td>\n",
       "      <td>cellular</td>\n",
       "      <td>30.0</td>\n",
       "      <td>jul</td>\n",
       "      <td>329.0</td>\n",
       "      <td>5</td>\n",
       "      <td>-1</td>\n",
       "      <td>0</td>\n",
       "      <td>unknown</td>\n",
       "      <td>no</td>\n",
       "    </tr>\n",
       "    <tr>\n",
       "      <td>4517</td>\n",
       "      <td>57</td>\n",
       "      <td>self-employed</td>\n",
       "      <td>married</td>\n",
       "      <td>tertiary</td>\n",
       "      <td>yes</td>\n",
       "      <td>-3313</td>\n",
       "      <td>yes</td>\n",
       "      <td>yes</td>\n",
       "      <td>unknown</td>\n",
       "      <td>9.0</td>\n",
       "      <td>may</td>\n",
       "      <td>153.0</td>\n",
       "      <td>1</td>\n",
       "      <td>-1</td>\n",
       "      <td>0</td>\n",
       "      <td>unknown</td>\n",
       "      <td>no</td>\n",
       "    </tr>\n",
       "    <tr>\n",
       "      <td>4518</td>\n",
       "      <td>57</td>\n",
       "      <td>technician</td>\n",
       "      <td>married</td>\n",
       "      <td>secondary</td>\n",
       "      <td>no</td>\n",
       "      <td>295</td>\n",
       "      <td>no</td>\n",
       "      <td>no</td>\n",
       "      <td>cellular</td>\n",
       "      <td>19.0</td>\n",
       "      <td>aug</td>\n",
       "      <td>151.0</td>\n",
       "      <td>11</td>\n",
       "      <td>-1</td>\n",
       "      <td>0</td>\n",
       "      <td>unknown</td>\n",
       "      <td>no</td>\n",
       "    </tr>\n",
       "    <tr>\n",
       "      <td>4519</td>\n",
       "      <td>28</td>\n",
       "      <td>blue-collar</td>\n",
       "      <td>married</td>\n",
       "      <td>secondary</td>\n",
       "      <td>no</td>\n",
       "      <td>1137</td>\n",
       "      <td>no</td>\n",
       "      <td>no</td>\n",
       "      <td>cellular</td>\n",
       "      <td>6.0</td>\n",
       "      <td>feb</td>\n",
       "      <td>129.0</td>\n",
       "      <td>4</td>\n",
       "      <td>211</td>\n",
       "      <td>3</td>\n",
       "      <td>other</td>\n",
       "      <td>no</td>\n",
       "    </tr>\n",
       "    <tr>\n",
       "      <td>4520</td>\n",
       "      <td>44</td>\n",
       "      <td>NaN</td>\n",
       "      <td>NaN</td>\n",
       "      <td>tertiary</td>\n",
       "      <td>no</td>\n",
       "      <td>1136</td>\n",
       "      <td>yes</td>\n",
       "      <td>yes</td>\n",
       "      <td>NaN</td>\n",
       "      <td>3.0</td>\n",
       "      <td>apr</td>\n",
       "      <td>NaN</td>\n",
       "      <td>2</td>\n",
       "      <td>249</td>\n",
       "      <td>7</td>\n",
       "      <td>other</td>\n",
       "      <td>no</td>\n",
       "    </tr>\n",
       "  </tbody>\n",
       "</table>\n",
       "<p>4521 rows × 17 columns</p>\n",
       "</div>"
      ],
      "text/plain": [
       "      age            job  marital  education default balance housing loan  \\\n",
       "0      30     unemployed  married    primary      no    1787      no   no   \n",
       "1      33       services  married  secondary      no    4789     yes  yes   \n",
       "2      35     management   single   tertiary      no    1350     yes   no   \n",
       "3      30     management  married   tertiary      no    1476     yes  yes   \n",
       "4      59    blue-collar  married  secondary      no       0     yes   no   \n",
       "...   ...            ...      ...        ...     ...     ...     ...  ...   \n",
       "4516   33       services  married  secondary      no    -333     yes   no   \n",
       "4517   57  self-employed  married   tertiary     yes   -3313     yes  yes   \n",
       "4518   57     technician  married  secondary      no     295      no   no   \n",
       "4519   28    blue-collar  married  secondary      no    1137      no   no   \n",
       "4520   44            NaN      NaN   tertiary      no    1136     yes  yes   \n",
       "\n",
       "       contact   day month  duration  campaign  pdays  previous poutcome   y  \n",
       "0     cellular  19.0   oct      79.0         1     -1         0  unknown  no  \n",
       "1     cellular  11.0   may     220.0         1    339         4  failure  no  \n",
       "2     cellular  16.0   apr     185.0         1    330         1  failure  no  \n",
       "3      unknown   3.0   jun     199.0         4     -1         0  unknown  no  \n",
       "4      unknown   5.0   may     226.0         1     -1         0  unknown  no  \n",
       "...        ...   ...   ...       ...       ...    ...       ...      ...  ..  \n",
       "4516  cellular  30.0   jul     329.0         5     -1         0  unknown  no  \n",
       "4517   unknown   9.0   may     153.0         1     -1         0  unknown  no  \n",
       "4518  cellular  19.0   aug     151.0        11     -1         0  unknown  no  \n",
       "4519  cellular   6.0   feb     129.0         4    211         3    other  no  \n",
       "4520       NaN   3.0   apr       NaN         2    249         7    other  no  \n",
       "\n",
       "[4521 rows x 17 columns]"
      ]
     },
     "execution_count": 2,
     "metadata": {},
     "output_type": "execute_result"
    }
   ],
   "source": [
    "df = pd.read_csv('bank.csv', sep=';',header='infer')\n",
    "df"
   ]
  },
  {
   "cell_type": "code",
   "execution_count": 3,
   "metadata": {},
   "outputs": [
    {
     "data": {
      "text/plain": [
       "(4521, 17)"
      ]
     },
     "execution_count": 3,
     "metadata": {},
     "output_type": "execute_result"
    }
   ],
   "source": [
    "df.shape"
   ]
  },
  {
   "cell_type": "code",
   "execution_count": 4,
   "metadata": {},
   "outputs": [
    {
     "data": {
      "text/html": [
       "<div>\n",
       "<style scoped>\n",
       "    .dataframe tbody tr th:only-of-type {\n",
       "        vertical-align: middle;\n",
       "    }\n",
       "\n",
       "    .dataframe tbody tr th {\n",
       "        vertical-align: top;\n",
       "    }\n",
       "\n",
       "    .dataframe thead th {\n",
       "        text-align: right;\n",
       "    }\n",
       "</style>\n",
       "<table border=\"1\" class=\"dataframe\">\n",
       "  <thead>\n",
       "    <tr style=\"text-align: right;\">\n",
       "      <th></th>\n",
       "      <th>age</th>\n",
       "      <th>day</th>\n",
       "      <th>duration</th>\n",
       "      <th>campaign</th>\n",
       "      <th>pdays</th>\n",
       "      <th>previous</th>\n",
       "    </tr>\n",
       "  </thead>\n",
       "  <tbody>\n",
       "    <tr>\n",
       "      <td>count</td>\n",
       "      <td>4521.000000</td>\n",
       "      <td>4520.000000</td>\n",
       "      <td>4519.000000</td>\n",
       "      <td>4521.000000</td>\n",
       "      <td>4521.000000</td>\n",
       "      <td>4521.000000</td>\n",
       "    </tr>\n",
       "    <tr>\n",
       "      <td>mean</td>\n",
       "      <td>41.170095</td>\n",
       "      <td>15.915487</td>\n",
       "      <td>263.984952</td>\n",
       "      <td>2.793630</td>\n",
       "      <td>39.766645</td>\n",
       "      <td>0.542579</td>\n",
       "    </tr>\n",
       "    <tr>\n",
       "      <td>std</td>\n",
       "      <td>10.576211</td>\n",
       "      <td>8.248569</td>\n",
       "      <td>259.896301</td>\n",
       "      <td>3.109807</td>\n",
       "      <td>100.121124</td>\n",
       "      <td>1.693562</td>\n",
       "    </tr>\n",
       "    <tr>\n",
       "      <td>min</td>\n",
       "      <td>19.000000</td>\n",
       "      <td>1.000000</td>\n",
       "      <td>4.000000</td>\n",
       "      <td>1.000000</td>\n",
       "      <td>-1.000000</td>\n",
       "      <td>0.000000</td>\n",
       "    </tr>\n",
       "    <tr>\n",
       "      <td>25%</td>\n",
       "      <td>33.000000</td>\n",
       "      <td>9.000000</td>\n",
       "      <td>104.000000</td>\n",
       "      <td>1.000000</td>\n",
       "      <td>-1.000000</td>\n",
       "      <td>0.000000</td>\n",
       "    </tr>\n",
       "    <tr>\n",
       "      <td>50%</td>\n",
       "      <td>39.000000</td>\n",
       "      <td>16.000000</td>\n",
       "      <td>185.000000</td>\n",
       "      <td>2.000000</td>\n",
       "      <td>-1.000000</td>\n",
       "      <td>0.000000</td>\n",
       "    </tr>\n",
       "    <tr>\n",
       "      <td>75%</td>\n",
       "      <td>49.000000</td>\n",
       "      <td>21.000000</td>\n",
       "      <td>329.000000</td>\n",
       "      <td>3.000000</td>\n",
       "      <td>-1.000000</td>\n",
       "      <td>0.000000</td>\n",
       "    </tr>\n",
       "    <tr>\n",
       "      <td>max</td>\n",
       "      <td>87.000000</td>\n",
       "      <td>31.000000</td>\n",
       "      <td>3025.000000</td>\n",
       "      <td>50.000000</td>\n",
       "      <td>871.000000</td>\n",
       "      <td>25.000000</td>\n",
       "    </tr>\n",
       "  </tbody>\n",
       "</table>\n",
       "</div>"
      ],
      "text/plain": [
       "               age          day     duration     campaign        pdays  \\\n",
       "count  4521.000000  4520.000000  4519.000000  4521.000000  4521.000000   \n",
       "mean     41.170095    15.915487   263.984952     2.793630    39.766645   \n",
       "std      10.576211     8.248569   259.896301     3.109807   100.121124   \n",
       "min      19.000000     1.000000     4.000000     1.000000    -1.000000   \n",
       "25%      33.000000     9.000000   104.000000     1.000000    -1.000000   \n",
       "50%      39.000000    16.000000   185.000000     2.000000    -1.000000   \n",
       "75%      49.000000    21.000000   329.000000     3.000000    -1.000000   \n",
       "max      87.000000    31.000000  3025.000000    50.000000   871.000000   \n",
       "\n",
       "          previous  \n",
       "count  4521.000000  \n",
       "mean      0.542579  \n",
       "std       1.693562  \n",
       "min       0.000000  \n",
       "25%       0.000000  \n",
       "50%       0.000000  \n",
       "75%       0.000000  \n",
       "max      25.000000  "
      ]
     },
     "execution_count": 4,
     "metadata": {},
     "output_type": "execute_result"
    }
   ],
   "source": [
    "df.describe()"
   ]
  },
  {
   "cell_type": "code",
   "execution_count": 5,
   "metadata": {},
   "outputs": [
    {
     "name": "stdout",
     "output_type": "stream",
     "text": [
      "<class 'pandas.core.frame.DataFrame'>\n",
      "RangeIndex: 4521 entries, 0 to 4520\n",
      "Data columns (total 17 columns):\n",
      "age          4521 non-null int64\n",
      "job          4518 non-null object\n",
      "marital      4518 non-null object\n",
      "education    4518 non-null object\n",
      "default      4521 non-null object\n",
      "balance      4520 non-null object\n",
      "housing      4520 non-null object\n",
      "loan         4521 non-null object\n",
      "contact      4518 non-null object\n",
      "day          4520 non-null float64\n",
      "month        4521 non-null object\n",
      "duration     4519 non-null float64\n",
      "campaign     4521 non-null int64\n",
      "pdays        4521 non-null int64\n",
      "previous     4521 non-null int64\n",
      "poutcome     4521 non-null object\n",
      "y            4518 non-null object\n",
      "dtypes: float64(2), int64(4), object(11)\n",
      "memory usage: 600.6+ KB\n"
     ]
    }
   ],
   "source": [
    "df.info()"
   ]
  },
  {
   "cell_type": "markdown",
   "metadata": {},
   "source": [
    "## Visualizing the data and analyze the features"
   ]
  },
  {
   "cell_type": "code",
   "execution_count": 6,
   "metadata": {},
   "outputs": [],
   "source": [
    "df_features = pd.DataFrame()"
   ]
  },
  {
   "cell_type": "code",
   "execution_count": 7,
   "metadata": {},
   "outputs": [
    {
     "data": {
      "text/plain": [
       "age            int64\n",
       "job           object\n",
       "marital       object\n",
       "education     object\n",
       "default       object\n",
       "balance       object\n",
       "housing       object\n",
       "loan          object\n",
       "contact       object\n",
       "day          float64\n",
       "month         object\n",
       "duration     float64\n",
       "campaign       int64\n",
       "pdays          int64\n",
       "previous       int64\n",
       "poutcome      object\n",
       "y             object\n",
       "dtype: object"
      ]
     },
     "execution_count": 7,
     "metadata": {},
     "output_type": "execute_result"
    }
   ],
   "source": [
    "df.dtypes"
   ]
  },
  {
   "cell_type": "code",
   "execution_count": 8,
   "metadata": {},
   "outputs": [
    {
     "data": {
      "text/html": [
       "<div>\n",
       "<style scoped>\n",
       "    .dataframe tbody tr th:only-of-type {\n",
       "        vertical-align: middle;\n",
       "    }\n",
       "\n",
       "    .dataframe tbody tr th {\n",
       "        vertical-align: top;\n",
       "    }\n",
       "\n",
       "    .dataframe thead th {\n",
       "        text-align: right;\n",
       "    }\n",
       "</style>\n",
       "<table border=\"1\" class=\"dataframe\">\n",
       "  <thead>\n",
       "    <tr style=\"text-align: right;\">\n",
       "      <th></th>\n",
       "      <th>age</th>\n",
       "      <th>day</th>\n",
       "      <th>duration</th>\n",
       "      <th>campaign</th>\n",
       "      <th>pdays</th>\n",
       "      <th>previous</th>\n",
       "    </tr>\n",
       "  </thead>\n",
       "  <tbody>\n",
       "    <tr>\n",
       "      <td>count</td>\n",
       "      <td>4521.000000</td>\n",
       "      <td>4520.000000</td>\n",
       "      <td>4519.000000</td>\n",
       "      <td>4521.000000</td>\n",
       "      <td>4521.000000</td>\n",
       "      <td>4521.000000</td>\n",
       "    </tr>\n",
       "    <tr>\n",
       "      <td>mean</td>\n",
       "      <td>41.170095</td>\n",
       "      <td>15.915487</td>\n",
       "      <td>263.984952</td>\n",
       "      <td>2.793630</td>\n",
       "      <td>39.766645</td>\n",
       "      <td>0.542579</td>\n",
       "    </tr>\n",
       "    <tr>\n",
       "      <td>std</td>\n",
       "      <td>10.576211</td>\n",
       "      <td>8.248569</td>\n",
       "      <td>259.896301</td>\n",
       "      <td>3.109807</td>\n",
       "      <td>100.121124</td>\n",
       "      <td>1.693562</td>\n",
       "    </tr>\n",
       "    <tr>\n",
       "      <td>min</td>\n",
       "      <td>19.000000</td>\n",
       "      <td>1.000000</td>\n",
       "      <td>4.000000</td>\n",
       "      <td>1.000000</td>\n",
       "      <td>-1.000000</td>\n",
       "      <td>0.000000</td>\n",
       "    </tr>\n",
       "    <tr>\n",
       "      <td>25%</td>\n",
       "      <td>33.000000</td>\n",
       "      <td>9.000000</td>\n",
       "      <td>104.000000</td>\n",
       "      <td>1.000000</td>\n",
       "      <td>-1.000000</td>\n",
       "      <td>0.000000</td>\n",
       "    </tr>\n",
       "    <tr>\n",
       "      <td>50%</td>\n",
       "      <td>39.000000</td>\n",
       "      <td>16.000000</td>\n",
       "      <td>185.000000</td>\n",
       "      <td>2.000000</td>\n",
       "      <td>-1.000000</td>\n",
       "      <td>0.000000</td>\n",
       "    </tr>\n",
       "    <tr>\n",
       "      <td>75%</td>\n",
       "      <td>49.000000</td>\n",
       "      <td>21.000000</td>\n",
       "      <td>329.000000</td>\n",
       "      <td>3.000000</td>\n",
       "      <td>-1.000000</td>\n",
       "      <td>0.000000</td>\n",
       "    </tr>\n",
       "    <tr>\n",
       "      <td>max</td>\n",
       "      <td>87.000000</td>\n",
       "      <td>31.000000</td>\n",
       "      <td>3025.000000</td>\n",
       "      <td>50.000000</td>\n",
       "      <td>871.000000</td>\n",
       "      <td>25.000000</td>\n",
       "    </tr>\n",
       "  </tbody>\n",
       "</table>\n",
       "</div>"
      ],
      "text/plain": [
       "               age          day     duration     campaign        pdays  \\\n",
       "count  4521.000000  4520.000000  4519.000000  4521.000000  4521.000000   \n",
       "mean     41.170095    15.915487   263.984952     2.793630    39.766645   \n",
       "std      10.576211     8.248569   259.896301     3.109807   100.121124   \n",
       "min      19.000000     1.000000     4.000000     1.000000    -1.000000   \n",
       "25%      33.000000     9.000000   104.000000     1.000000    -1.000000   \n",
       "50%      39.000000    16.000000   185.000000     2.000000    -1.000000   \n",
       "75%      49.000000    21.000000   329.000000     3.000000    -1.000000   \n",
       "max      87.000000    31.000000  3025.000000    50.000000   871.000000   \n",
       "\n",
       "          previous  \n",
       "count  4521.000000  \n",
       "mean      0.542579  \n",
       "std       1.693562  \n",
       "min       0.000000  \n",
       "25%       0.000000  \n",
       "50%       0.000000  \n",
       "75%       0.000000  \n",
       "max      25.000000  "
      ]
     },
     "execution_count": 8,
     "metadata": {},
     "output_type": "execute_result"
    }
   ],
   "source": [
    "df.describe() # Numerical Data"
   ]
  },
  {
   "cell_type": "code",
   "execution_count": 9,
   "metadata": {},
   "outputs": [
    {
     "data": {
      "text/html": [
       "<div>\n",
       "<style scoped>\n",
       "    .dataframe tbody tr th:only-of-type {\n",
       "        vertical-align: middle;\n",
       "    }\n",
       "\n",
       "    .dataframe tbody tr th {\n",
       "        vertical-align: top;\n",
       "    }\n",
       "\n",
       "    .dataframe thead th {\n",
       "        text-align: right;\n",
       "    }\n",
       "</style>\n",
       "<table border=\"1\" class=\"dataframe\">\n",
       "  <thead>\n",
       "    <tr style=\"text-align: right;\">\n",
       "      <th></th>\n",
       "      <th>job</th>\n",
       "      <th>marital</th>\n",
       "      <th>education</th>\n",
       "      <th>default</th>\n",
       "      <th>balance</th>\n",
       "      <th>housing</th>\n",
       "      <th>loan</th>\n",
       "      <th>contact</th>\n",
       "      <th>month</th>\n",
       "      <th>poutcome</th>\n",
       "      <th>y</th>\n",
       "    </tr>\n",
       "  </thead>\n",
       "  <tbody>\n",
       "    <tr>\n",
       "      <td>count</td>\n",
       "      <td>4518</td>\n",
       "      <td>4518</td>\n",
       "      <td>4518</td>\n",
       "      <td>4521</td>\n",
       "      <td>4520</td>\n",
       "      <td>4520</td>\n",
       "      <td>4521</td>\n",
       "      <td>4518</td>\n",
       "      <td>4521</td>\n",
       "      <td>4521</td>\n",
       "      <td>4518</td>\n",
       "    </tr>\n",
       "    <tr>\n",
       "      <td>unique</td>\n",
       "      <td>12</td>\n",
       "      <td>3</td>\n",
       "      <td>5</td>\n",
       "      <td>2</td>\n",
       "      <td>2352</td>\n",
       "      <td>2</td>\n",
       "      <td>2</td>\n",
       "      <td>3</td>\n",
       "      <td>12</td>\n",
       "      <td>4</td>\n",
       "      <td>6</td>\n",
       "    </tr>\n",
       "    <tr>\n",
       "      <td>top</td>\n",
       "      <td>management</td>\n",
       "      <td>married</td>\n",
       "      <td>secondary</td>\n",
       "      <td>no</td>\n",
       "      <td>0</td>\n",
       "      <td>yes</td>\n",
       "      <td>no</td>\n",
       "      <td>cellular</td>\n",
       "      <td>may</td>\n",
       "      <td>unknown</td>\n",
       "      <td>no</td>\n",
       "    </tr>\n",
       "    <tr>\n",
       "      <td>freq</td>\n",
       "      <td>968</td>\n",
       "      <td>2796</td>\n",
       "      <td>2304</td>\n",
       "      <td>4445</td>\n",
       "      <td>357</td>\n",
       "      <td>2558</td>\n",
       "      <td>3830</td>\n",
       "      <td>2894</td>\n",
       "      <td>1398</td>\n",
       "      <td>3705</td>\n",
       "      <td>3988</td>\n",
       "    </tr>\n",
       "  </tbody>\n",
       "</table>\n",
       "</div>"
      ],
      "text/plain": [
       "               job  marital  education default balance housing  loan  \\\n",
       "count         4518     4518       4518    4521    4520    4520  4521   \n",
       "unique          12        3          5       2    2352       2     2   \n",
       "top     management  married  secondary      no       0     yes    no   \n",
       "freq           968     2796       2304    4445     357    2558  3830   \n",
       "\n",
       "         contact month poutcome     y  \n",
       "count       4518  4521     4521  4518  \n",
       "unique         3    12        4     6  \n",
       "top     cellular   may  unknown    no  \n",
       "freq        2894  1398     3705  3988  "
      ]
     },
     "execution_count": 9,
     "metadata": {},
     "output_type": "execute_result"
    }
   ],
   "source": [
    "df.describe(include=['O']) # Describe categorical features"
   ]
  },
  {
   "cell_type": "code",
   "execution_count": 10,
   "metadata": {},
   "outputs": [
    {
     "data": {
      "text/html": [
       "<div>\n",
       "<style scoped>\n",
       "    .dataframe tbody tr th:only-of-type {\n",
       "        vertical-align: middle;\n",
       "    }\n",
       "\n",
       "    .dataframe tbody tr th {\n",
       "        vertical-align: top;\n",
       "    }\n",
       "\n",
       "    .dataframe thead th {\n",
       "        text-align: right;\n",
       "    }\n",
       "</style>\n",
       "<table border=\"1\" class=\"dataframe\">\n",
       "  <thead>\n",
       "    <tr style=\"text-align: right;\">\n",
       "      <th></th>\n",
       "      <th>age</th>\n",
       "      <th>job</th>\n",
       "      <th>marital</th>\n",
       "      <th>education</th>\n",
       "      <th>default</th>\n",
       "      <th>balance</th>\n",
       "      <th>housing</th>\n",
       "      <th>loan</th>\n",
       "      <th>contact</th>\n",
       "      <th>day</th>\n",
       "      <th>month</th>\n",
       "      <th>duration</th>\n",
       "      <th>campaign</th>\n",
       "      <th>pdays</th>\n",
       "      <th>previous</th>\n",
       "      <th>poutcome</th>\n",
       "      <th>y</th>\n",
       "    </tr>\n",
       "  </thead>\n",
       "  <tbody>\n",
       "    <tr>\n",
       "      <td>0</td>\n",
       "      <td>30</td>\n",
       "      <td>unemployed</td>\n",
       "      <td>married</td>\n",
       "      <td>primary</td>\n",
       "      <td>no</td>\n",
       "      <td>1787</td>\n",
       "      <td>no</td>\n",
       "      <td>no</td>\n",
       "      <td>cellular</td>\n",
       "      <td>19.0</td>\n",
       "      <td>oct</td>\n",
       "      <td>79.0</td>\n",
       "      <td>1</td>\n",
       "      <td>-1</td>\n",
       "      <td>0</td>\n",
       "      <td>unknown</td>\n",
       "      <td>no</td>\n",
       "    </tr>\n",
       "    <tr>\n",
       "      <td>1</td>\n",
       "      <td>33</td>\n",
       "      <td>services</td>\n",
       "      <td>married</td>\n",
       "      <td>secondary</td>\n",
       "      <td>no</td>\n",
       "      <td>4789</td>\n",
       "      <td>yes</td>\n",
       "      <td>yes</td>\n",
       "      <td>cellular</td>\n",
       "      <td>11.0</td>\n",
       "      <td>may</td>\n",
       "      <td>220.0</td>\n",
       "      <td>1</td>\n",
       "      <td>339</td>\n",
       "      <td>4</td>\n",
       "      <td>failure</td>\n",
       "      <td>no</td>\n",
       "    </tr>\n",
       "    <tr>\n",
       "      <td>2</td>\n",
       "      <td>35</td>\n",
       "      <td>management</td>\n",
       "      <td>single</td>\n",
       "      <td>tertiary</td>\n",
       "      <td>no</td>\n",
       "      <td>1350</td>\n",
       "      <td>yes</td>\n",
       "      <td>no</td>\n",
       "      <td>cellular</td>\n",
       "      <td>16.0</td>\n",
       "      <td>apr</td>\n",
       "      <td>185.0</td>\n",
       "      <td>1</td>\n",
       "      <td>330</td>\n",
       "      <td>1</td>\n",
       "      <td>failure</td>\n",
       "      <td>no</td>\n",
       "    </tr>\n",
       "    <tr>\n",
       "      <td>3</td>\n",
       "      <td>30</td>\n",
       "      <td>management</td>\n",
       "      <td>married</td>\n",
       "      <td>tertiary</td>\n",
       "      <td>no</td>\n",
       "      <td>1476</td>\n",
       "      <td>yes</td>\n",
       "      <td>yes</td>\n",
       "      <td>unknown</td>\n",
       "      <td>3.0</td>\n",
       "      <td>jun</td>\n",
       "      <td>199.0</td>\n",
       "      <td>4</td>\n",
       "      <td>-1</td>\n",
       "      <td>0</td>\n",
       "      <td>unknown</td>\n",
       "      <td>no</td>\n",
       "    </tr>\n",
       "    <tr>\n",
       "      <td>4</td>\n",
       "      <td>59</td>\n",
       "      <td>blue-collar</td>\n",
       "      <td>married</td>\n",
       "      <td>secondary</td>\n",
       "      <td>no</td>\n",
       "      <td>0</td>\n",
       "      <td>yes</td>\n",
       "      <td>no</td>\n",
       "      <td>unknown</td>\n",
       "      <td>5.0</td>\n",
       "      <td>may</td>\n",
       "      <td>226.0</td>\n",
       "      <td>1</td>\n",
       "      <td>-1</td>\n",
       "      <td>0</td>\n",
       "      <td>unknown</td>\n",
       "      <td>no</td>\n",
       "    </tr>\n",
       "  </tbody>\n",
       "</table>\n",
       "</div>"
      ],
      "text/plain": [
       "   age          job  marital  education default balance housing loan  \\\n",
       "0   30   unemployed  married    primary      no    1787      no   no   \n",
       "1   33     services  married  secondary      no    4789     yes  yes   \n",
       "2   35   management   single   tertiary      no    1350     yes   no   \n",
       "3   30   management  married   tertiary      no    1476     yes  yes   \n",
       "4   59  blue-collar  married  secondary      no       0     yes   no   \n",
       "\n",
       "    contact   day month  duration  campaign  pdays  previous poutcome   y  \n",
       "0  cellular  19.0   oct      79.0         1     -1         0  unknown  no  \n",
       "1  cellular  11.0   may     220.0         1    339         4  failure  no  \n",
       "2  cellular  16.0   apr     185.0         1    330         1  failure  no  \n",
       "3   unknown   3.0   jun     199.0         4     -1         0  unknown  no  \n",
       "4   unknown   5.0   may     226.0         1     -1         0  unknown  no  "
      ]
     },
     "execution_count": 10,
     "metadata": {},
     "output_type": "execute_result"
    }
   ],
   "source": [
    "df.head()"
   ]
  },
  {
   "cell_type": "code",
   "execution_count": 11,
   "metadata": {},
   "outputs": [],
   "source": [
    "df['y'] = df['y'].str.lower()"
   ]
  },
  {
   "cell_type": "markdown",
   "metadata": {},
   "source": [
    "## Target Variable: y\n"
   ]
  },
  {
   "cell_type": "code",
   "execution_count": 12,
   "metadata": {},
   "outputs": [],
   "source": [
    "def yes_no_encoder(data):\n",
    "    if 'no' in data:\n",
    "        data = 0\n",
    "    elif 'yes' in data:\n",
    "        data = 1\n",
    "    \n",
    "    return data"
   ]
  },
  {
   "cell_type": "markdown",
   "metadata": {},
   "source": [
    "### Convert categorical variables to numeric variables"
   ]
  },
  {
   "cell_type": "code",
   "execution_count": 13,
   "metadata": {},
   "outputs": [
    {
     "name": "stdout",
     "output_type": "stream",
     "text": [
      "age\n",
      "[30 33 35 59 36 39 41 43 20 31 40 56 37 25 38 42 44 26 55 67 53 68 32 49\n",
      " 78 23 52 34 61 45 48 57 54 63 51 29 50 27 60 28 21 58 22 46 24 77 75 47\n",
      " 70 65 64 62 66 19 81 83 80 71 72 69 79 73 86 74 76 87 84]\n",
      "------------------------------------------------------------\n",
      "job\n",
      "['unemployed' 'services' 'management' 'blue-collar' 'self-employed'\n",
      " 'technician' 'entrepreneur' 'admin.' 'student' 'housemaid' 'retired'\n",
      " 'unknown' nan]\n",
      "------------------------------------------------------------\n",
      "marital\n",
      "['married' 'single' 'divorced' nan]\n",
      "------------------------------------------------------------\n",
      "education\n",
      "['primary' 'secondary' 'tertiary' 'unknown' nan 'na']\n",
      "------------------------------------------------------------\n",
      "default\n",
      "['no' 'yes']\n",
      "------------------------------------------------------------\n",
      "balance\n",
      "['1787' '4789' '1350' ... '-333' '-3313' '1137']\n",
      "------------------------------------------------------------\n",
      "housing\n",
      "['no' 'yes' nan]\n",
      "------------------------------------------------------------\n",
      "loan\n",
      "['no' 'yes']\n",
      "------------------------------------------------------------\n",
      "contact\n",
      "['cellular' 'unknown' nan 'telephone']\n",
      "------------------------------------------------------------\n",
      "day\n",
      "[19. 11. 16.  3.  5. 23. 14.  6. 17. 20. 13. 30. 29. 27.  7. 18. 12. 21.\n",
      " 26. 22.  2.  4. 15.  8. 28.  9.  1. nan 10. 31. 25. 24.]\n",
      "------------------------------------------------------------\n",
      "month\n",
      "['oct' 'may' 'apr' 'jun' 'feb' 'aug' 'jan' 'jul' 'nov' 'sep' 'mar' 'dec']\n",
      "------------------------------------------------------------\n",
      "duration\n",
      "[  79.  220.  185.  199.  226.  141.  341.  151.   57.  313.  273.  113.\n",
      "  328.  261.   89.  189.  239.  114.  250.  148.   96.  140.  109.  125.\n",
      "  169.  182.  247.  119.  149.   74.  897.   81.   40.  958.  354.  150.\n",
      "   97.  132.  765.   16.  609.  106.  365.  205.   11.  105.   59.  425.\n",
      "  204.  181. 1018. 1740.   98.  441.  272.  159.  295.  314.  579.  554.\n",
      "  323.  227.  134.  223.  155.  130.  630.  164.  268.  380.  154.  221.\n",
      "   67.  367.   87.  701.  652.   63.  398.  224.  406.   60.  521.  279.\n",
      "  203.  201.  372.  391.  165.  231.  291.  233.  473.  736.  337.  553.\n",
      "  345.   65.    9.  259.  371.  280.  243.  435.  258.    7.  317.   nan\n",
      "  170.  386.   83.   69.  564.  588.  779.  281. 1877.   51.   32.  176.\n",
      "  161.  187.   24.   85.  236.   54.   71.  489.   39.  455.   86.  190.\n",
      "   45.  168.  194.  103.  333.  102.   92.  213.  289.   77.  324.   84.\n",
      "   10.   35.   82.  676.   80.  549.  135.  412.  101.  253.  166.   18.\n",
      "  147.   14.   61.  377.  152.  382.  543.  240.   48.  471.  285.  301.\n",
      "  768. 1337.  403.  139.  196.  115.   17.   95.  198.  654.  256.  834.\n",
      "   20.  178.  111.  186.  297.  210.  112.  222.  195.  123.  145.  124.\n",
      "  216.  483.  690.  344.  673.  144.  246.  361.  375. 1097.  180.  373.\n",
      "  230.   58.   88.  487.   29.  484.  262.  644.  699.   49.   64.  121.\n",
      "  197.  331.  138.  312.  120.  526.  211.   62.  988.  451. 1030. 1484.\n",
      "  445.  383.  605.  330.  171.  442.  772.  249.  357.  271.  783.  472.\n",
      "  395.   56.  641.  429.  157.  162.  799. 1370.   22.  215. 1017.  298.\n",
      "  126.    8.  555.  270.  339.  342. 1434.   30.  397.  620.    6.  209.\n",
      "  419.  283.  188.  267.  245. 1065.  207.  456.  131.   94.  567.  153.\n",
      "   53.  234.  108.  208.  597.  505.  332.  212.  493.  681.  287.  202.\n",
      "   37.   72.  325. 1212.  319.  514.  551.  142.  293.  107.  127. 1816.\n",
      "  200.  418.  387.  156.   47.  265.   31.   28.  369.  854.   46.  266.\n",
      "  321.   99.  430.  264.  118.  343.    5.  722.  748.  523.  421.   15.\n",
      "  502.  193.  347.  468.  388. 1735.  172.  117.  587.  501.  282.  110.\n",
      "  104.  378. 1407.  738.   70.  904.  336.  238.  585.   68. 1713.  218.\n",
      "  661.  566.  136.  160.   76.   44.  792.   73.   90.  346.  192.  682.\n",
      "  651.  405.  350.   36.  389. 3025.  219.  427.  533.   19.  819.  278.\n",
      "  617.   34.  668.   75.  146.  356.  251.  352.  184.  568.  260.  447.\n",
      "  426.  174.  284.  428.  237. 1031.  700.  590.   43.   27. 1181.  122.\n",
      "  307.  770.  767.  232.  986.   66.  158.  306.  559.  183.  631. 1282.\n",
      " 1199.  244.   55.  290.  385.  133.   91.   25.  275.  632.  100.   41.\n",
      "  446.  304.  335.  276.   42.  614.  557. 1663.  510. 1259.  225.  404.\n",
      " 1015.  761.  464.  206.  667.  143.  717.   38.  254.  882.  957.  299.\n",
      "  167.  500.  177.  457.  460. 1028.  315.  381.  643.  508.  128.  492.\n",
      "  257.  241.  536.  601. 1168.  277.  364.  229.  402.  175.  255.  820.\n",
      "  116.  463.  603.  191. 2087.  754.  303.  288.  891.  558.  228.  353.\n",
      "  296.  432. 1130.  305.  274.  860.  420.  756.  968.  408.   13.  763.\n",
      "  316.   50.    4.   78.  286.  766.  648.  688.   21.  593.  407.  563.\n",
      "   52.  803.  396.  637.  945. 1178.  506.  409.  327.  618.  936.  329.\n",
      "  179.  731.  670.  318.  415.  137.  349.  263.  671.  452.  163.  586.\n",
      "  650.  610.  747.  252.  883.  684.  686. 1060.  724.  424.  712.  753.\n",
      " 1081.  376.  433.  411. 1083.  757.  524.  653.   93.  503.  217.  475.\n",
      "  340.  242.  530.   23.  935.  773.  423.  626.  578.  248.  528.  785.\n",
      "  952. 1174.  915.  937.  129. 1063.  758.  574.  847. 1558.  789. 1441.\n",
      "  322. 1504.  537.  611.   26.   12.  235.  796. 1126.  697.  931. 1034.\n",
      "  362.  410.  570.  633.  659.  302.  727.  214.  173.  635.  540. 1210.\n",
      "  486.  646.  326.  414.  716.  449.  580.  399. 1029.  755.  619.  606.\n",
      "  971.  348.  594. 1275.  379. 1032.  393.  808.  923.  413.  541.  602.\n",
      "  762.  360.  310.  311.  638.  355.  300.  417.  308.  657.  434.  488.\n",
      " 1309. 1056.  908.  401.  827.  735.  691.  461.  669. 1473. 1386.  294.\n",
      "  910.  550. 1366. 1532.  955.  513. 1236.  809.  482. 1164.  674.  709.\n",
      "  436.  374.  309.  363.  422.  358.  640.  439.  476.  480.  517.  993.\n",
      "   33.  730.  636.  750.  334.  868.  351. 1689.  607.  485. 1021.  732.\n",
      "  577.  733.  788.  863. 1073.  525.  696.  535.  370.  465.  338.  956.\n",
      "  546.  470.  836.  544.  443. 1149.  707. 1451. 1143.  477.  450.  467.\n",
      "  292.  806.  560.  759. 1183.  598.  466.  431.  269.  542.  562.  515.\n",
      " 1165.  547.  780.  916.  474.  509.  679. 1472.  965. 1139.  504.  672.\n",
      "  749.  454.  531.  479.  384.  973.  728.  656.  998.  320.  615.  612.\n",
      "  664.  394.  877. 1971. 1258.  599.  655. 1994.  743.  924.  929.  491.\n",
      "  719.  565. 1529.  390. 1467. 1007.  665.  990.  582.  458.  775.  497.\n",
      "  698.  702.  520. 1156.  884. 1521.  359.  527.  994. 1579.  437. 1225.\n",
      "  865.  569. 1011.  814.  984.  392.  595. 1448.  529. 1006.  622.  494.\n",
      " 1022. 1044.  781. 1124.  400.  516. 1516.  978.  720.  495.  798.  876.\n",
      "  875.  481.  793. 1117. 1223. 1101.  744. 2769.  561.  715.  639.  538.\n",
      " 1721. 1608.  725.  519.  490.  907.  680.  977.  959.  693. 2029. 1009.\n",
      "  718.  805.  623.  976.  600.  469. 1010.  634. 1531.  764.  532.  825.\n",
      "  539.  816.  821. 1231.  742. 2456.  721.  777.  548.  830.  645.  723.\n",
      "  746.  869. 1173.  624.  518.  815.  857.  921.  627.  800.  366. 1088.\n",
      "  812.  866. 1151.  873.  592.  663.  576. 1476.  951. 1234. 1263.  660.]\n",
      "------------------------------------------------------------\n",
      "campaign\n",
      "[ 1  4  2  5  3  6 18 10  9  7 12 14 13 24 11  8 29 32 16 22 15 30 25 21\n",
      " 17 19 23 20 50 28 31 44]\n",
      "------------------------------------------------------------\n",
      "pdays\n",
      "[ -1 339 330 176 147 241 152 105 342 101   5  92  56 170 182 297 196 460\n",
      " 137 367 145 169 207 266 288 168 345 436  90 183 146 335 347 119   7 271\n",
      " 181  88 141 126  61 373 351 242  62  91 308 250 172 265  78  28  79   1\n",
      " 188 167  89 164 462 209 321 254  94 364  96 356 149 363 275 325 341 260\n",
      " 358  87 303  98 327 337 322 102  99 370  84 212  63  81 191 360 332  80\n",
      "  85 247 150 175 382 261 336  58 206 112 199 133 208 253 135 278 140 298\n",
      " 273 124 281 162 323 349 117   2 256 333 116 268 136 198 357 259 353 174\n",
      " 371 205 246  69 315 110 461 184 270 127 187  64 130 346 100 352 808 113\n",
      " 378 292 287 107 293 139 138 193 274  97 103 359 185 674 211 300 334 280\n",
      " 479  95 262 362 225   3 366  60 190 368 122 343 131 365 299 115 316 180\n",
      " 154 313 264 350  73 232 204 143 375 186 344 210 248 177 221 189 104 258\n",
      " 305 171 120 317 178 386 118 404 374 282 179 284 227 291 173 871 238 294\n",
      " 222 435 340 426 239  83 111 415 255 235 244  38 683 329  59 151 192 158\n",
      " 338 388 165 348 197 295 109 484 326 369 397 414 319 474  93 249 272 355\n",
      " 195  82 541 231 153 201 761 114 385 267 161 467  75 106 223 312 148 309\n",
      " 283  86 166 160 450 500 311 123 159 687 224 361  74  76 286  77  57 219\n",
      " 331 804 144 234]\n",
      "------------------------------------------------------------\n",
      "previous\n",
      "[ 0  4  1  3  2  5 20  7  6 10  9  8 18 19 12 13 11 14 15 24 17 22 23 25]\n",
      "------------------------------------------------------------\n",
      "poutcome\n",
      "['unknown' 'failure' 'other' 'success']\n",
      "------------------------------------------------------------\n",
      "y\n",
      "['no' 'yes' nan]\n",
      "------------------------------------------------------------\n"
     ]
    }
   ],
   "source": [
    "for i in df.columns:\n",
    "    print(i)\n",
    "    print(df[i].unique())\n",
    "    print('---'*20)"
   ]
  },
  {
   "cell_type": "code",
   "execution_count": 14,
   "metadata": {},
   "outputs": [],
   "source": [
    "df['y'].replace({np.nan:'no'}, inplace = True)"
   ]
  },
  {
   "cell_type": "code",
   "execution_count": 15,
   "metadata": {},
   "outputs": [
    {
     "data": {
      "text/plain": [
       "dtype('O')"
      ]
     },
     "execution_count": 15,
     "metadata": {},
     "output_type": "execute_result"
    }
   ],
   "source": [
    "df['y'].dtypes"
   ]
  },
  {
   "cell_type": "code",
   "execution_count": 16,
   "metadata": {},
   "outputs": [],
   "source": [
    "df['y'] = df['y'].apply(yes_no_encoder)"
   ]
  },
  {
   "cell_type": "code",
   "execution_count": 17,
   "metadata": {},
   "outputs": [
    {
     "data": {
      "text/plain": [
       "0       0\n",
       "1       0\n",
       "2       0\n",
       "3       0\n",
       "4       0\n",
       "       ..\n",
       "4516    0\n",
       "4517    0\n",
       "4518    0\n",
       "4519    0\n",
       "4520    0\n",
       "Name: y, Length: 4521, dtype: int64"
      ]
     },
     "execution_count": 17,
     "metadata": {},
     "output_type": "execute_result"
    }
   ],
   "source": [
    "df['y']"
   ]
  },
  {
   "cell_type": "code",
   "execution_count": 18,
   "metadata": {},
   "outputs": [],
   "source": [
    "df_features['y'] = df['y']"
   ]
  },
  {
   "cell_type": "code",
   "execution_count": 19,
   "metadata": {},
   "outputs": [
    {
     "name": "stdout",
     "output_type": "stream",
     "text": [
      "0    4000\n",
      "1     521\n",
      "Name: y, dtype: int64\n"
     ]
    },
    {
     "data": {
      "image/png": "[encoded data removed]",
      "text/plain": [
       "<Figure size 1440x72 with 1 Axes>"
      ]
     },
     "metadata": {
      "needs_background": "light"
     },
     "output_type": "display_data"
    }
   ],
   "source": [
    "fig = plt.figure(figsize=(20, 1))\n",
    "sns.countplot(y='y', data=df)\n",
    "print(df.y.value_counts())"
   ]
  },
  {
   "cell_type": "markdown",
   "metadata": {},
   "source": [
    "### Feature: Age"
   ]
  },
  {
   "cell_type": "code",
   "execution_count": 20,
   "metadata": {},
   "outputs": [
    {
     "data": {
      "text/plain": [
       "dtype('int64')"
      ]
     },
     "execution_count": 20,
     "metadata": {},
     "output_type": "execute_result"
    }
   ],
   "source": [
    "df['age'].dtype"
   ]
  },
  {
   "cell_type": "code",
   "execution_count": 21,
   "metadata": {},
   "outputs": [
    {
     "data": {
      "text/plain": [
       "0"
      ]
     },
     "execution_count": 21,
     "metadata": {},
     "output_type": "execute_result"
    }
   ],
   "source": [
    "df['age'].isnull().sum()"
   ]
  },
  {
   "cell_type": "code",
   "execution_count": 22,
   "metadata": {},
   "outputs": [],
   "source": [
    "df_features['age'] = df['age']"
   ]
  },
  {
   "cell_type": "code",
   "execution_count": 23,
   "metadata": {},
   "outputs": [
    {
     "data": {
      "text/plain": [
       "<matplotlib.axes._subplots.AxesSubplot at 0x1031d6b90>"
      ]
     },
     "execution_count": 23,
     "metadata": {},
     "output_type": "execute_result"
    },
    {
     "data": {
      "image/png": "[encoded data removed]",
      "text/plain": [
       "<Figure size 432x288 with 1 Axes>"
      ]
     },
     "metadata": {
      "needs_background": "light"
     },
     "output_type": "display_data"
    }
   ],
   "source": [
    "sns.distplot(df_features['age'], kde = False)"
   ]
  },
  {
   "cell_type": "markdown",
   "metadata": {},
   "source": [
    "### Feature: Job"
   ]
  },
  {
   "cell_type": "code",
   "execution_count": 24,
   "metadata": {},
   "outputs": [],
   "source": [
    "df_features['job'] = df['job']"
   ]
  },
  {
   "cell_type": "code",
   "execution_count": 25,
   "metadata": {},
   "outputs": [
    {
     "data": {
      "text/plain": [
       "dtype('O')"
      ]
     },
     "execution_count": 25,
     "metadata": {},
     "output_type": "execute_result"
    }
   ],
   "source": [
    "df['job'].dtype"
   ]
  },
  {
   "cell_type": "code",
   "execution_count": 26,
   "metadata": {},
   "outputs": [
    {
     "data": {
      "text/plain": [
       "3"
      ]
     },
     "execution_count": 26,
     "metadata": {},
     "output_type": "execute_result"
    }
   ],
   "source": [
    "df['job'].isnull().sum()"
   ]
  },
  {
   "cell_type": "code",
   "execution_count": 27,
   "metadata": {},
   "outputs": [
    {
     "data": {
      "text/plain": [
       "0          unemployed\n",
       "1            services\n",
       "2          management\n",
       "3          management\n",
       "4         blue-collar\n",
       "            ...      \n",
       "4516         services\n",
       "4517    self-employed\n",
       "4518       technician\n",
       "4519      blue-collar\n",
       "4520              NaN\n",
       "Name: job, Length: 4521, dtype: object"
      ]
     },
     "execution_count": 27,
     "metadata": {},
     "output_type": "execute_result"
    }
   ],
   "source": [
    "df['job']"
   ]
  },
  {
   "cell_type": "code",
   "execution_count": 28,
   "metadata": {},
   "outputs": [
    {
     "data": {
      "text/plain": [
       "0    management\n",
       "dtype: object"
      ]
     },
     "execution_count": 28,
     "metadata": {},
     "output_type": "execute_result"
    }
   ],
   "source": [
    "df['job'].mode()"
   ]
  },
  {
   "cell_type": "code",
   "execution_count": 29,
   "metadata": {},
   "outputs": [],
   "source": [
    "df['job'].replace({np.nan:'management'}, inplace = True)"
   ]
  },
  {
   "cell_type": "code",
   "execution_count": 30,
   "metadata": {},
   "outputs": [
    {
     "data": {
      "text/plain": [
       "<matplotlib.axes._subplots.AxesSubplot at 0x1a40c403d0>"
      ]
     },
     "execution_count": 30,
     "metadata": {},
     "output_type": "execute_result"
    },
    {
     "data": {
      "image/png": "[encoded data removed]",
      "text/plain": [
       "<Figure size 1080x360 with 1 Axes>"
      ]
     },
     "metadata": {
      "needs_background": "light"
     },
     "output_type": "display_data"
    }
   ],
   "source": [
    "plt.figure(figsize=(15, 5))\n",
    "sns.countplot(y='job', data=df_features)"
   ]
  },
  {
   "cell_type": "markdown",
   "metadata": {},
   "source": [
    "### Feature: Marital"
   ]
  },
  {
   "cell_type": "code",
   "execution_count": 31,
   "metadata": {},
   "outputs": [
    {
     "name": "stdout",
     "output_type": "stream",
     "text": [
      "age\n",
      "[30 33 35 59 36 39 41 43 20 31 40 56 37 25 38 42 44 26 55 67 53 68 32 49\n",
      " 78 23 52 34 61 45 48 57 54 63 51 29 50 27 60 28 21 58 22 46 24 77 75 47\n",
      " 70 65 64 62 66 19 81 83 80 71 72 69 79 73 86 74 76 87 84]\n",
      "------------------------------------------------------------\n",
      "job\n",
      "['unemployed' 'services' 'management' 'blue-collar' 'self-employed'\n",
      " 'technician' 'entrepreneur' 'admin.' 'student' 'housemaid' 'retired'\n",
      " 'unknown']\n",
      "------------------------------------------------------------\n",
      "marital\n",
      "['married' 'single' 'divorced' nan]\n",
      "------------------------------------------------------------\n",
      "education\n",
      "['primary' 'secondary' 'tertiary' 'unknown' nan 'na']\n",
      "------------------------------------------------------------\n",
      "default\n",
      "['no' 'yes']\n",
      "------------------------------------------------------------\n",
      "balance\n",
      "['1787' '4789' '1350' ... '-333' '-3313' '1137']\n",
      "------------------------------------------------------------\n",
      "housing\n",
      "['no' 'yes' nan]\n",
      "------------------------------------------------------------\n",
      "loan\n",
      "['no' 'yes']\n",
      "------------------------------------------------------------\n",
      "contact\n",
      "['cellular' 'unknown' nan 'telephone']\n",
      "------------------------------------------------------------\n",
      "day\n",
      "[19. 11. 16.  3.  5. 23. 14.  6. 17. 20. 13. 30. 29. 27.  7. 18. 12. 21.\n",
      " 26. 22.  2.  4. 15.  8. 28.  9.  1. nan 10. 31. 25. 24.]\n",
      "------------------------------------------------------------\n",
      "month\n",
      "['oct' 'may' 'apr' 'jun' 'feb' 'aug' 'jan' 'jul' 'nov' 'sep' 'mar' 'dec']\n",
      "------------------------------------------------------------\n",
      "duration\n",
      "[  79.  220.  185.  199.  226.  141.  341.  151.   57.  313.  273.  113.\n",
      "  328.  261.   89.  189.  239.  114.  250.  148.   96.  140.  109.  125.\n",
      "  169.  182.  247.  119.  149.   74.  897.   81.   40.  958.  354.  150.\n",
      "   97.  132.  765.   16.  609.  106.  365.  205.   11.  105.   59.  425.\n",
      "  204.  181. 1018. 1740.   98.  441.  272.  159.  295.  314.  579.  554.\n",
      "  323.  227.  134.  223.  155.  130.  630.  164.  268.  380.  154.  221.\n",
      "   67.  367.   87.  701.  652.   63.  398.  224.  406.   60.  521.  279.\n",
      "  203.  201.  372.  391.  165.  231.  291.  233.  473.  736.  337.  553.\n",
      "  345.   65.    9.  259.  371.  280.  243.  435.  258.    7.  317.   nan\n",
      "  170.  386.   83.   69.  564.  588.  779.  281. 1877.   51.   32.  176.\n",
      "  161.  187.   24.   85.  236.   54.   71.  489.   39.  455.   86.  190.\n",
      "   45.  168.  194.  103.  333.  102.   92.  213.  289.   77.  324.   84.\n",
      "   10.   35.   82.  676.   80.  549.  135.  412.  101.  253.  166.   18.\n",
      "  147.   14.   61.  377.  152.  382.  543.  240.   48.  471.  285.  301.\n",
      "  768. 1337.  403.  139.  196.  115.   17.   95.  198.  654.  256.  834.\n",
      "   20.  178.  111.  186.  297.  210.  112.  222.  195.  123.  145.  124.\n",
      "  216.  483.  690.  344.  673.  144.  246.  361.  375. 1097.  180.  373.\n",
      "  230.   58.   88.  487.   29.  484.  262.  644.  699.   49.   64.  121.\n",
      "  197.  331.  138.  312.  120.  526.  211.   62.  988.  451. 1030. 1484.\n",
      "  445.  383.  605.  330.  171.  442.  772.  249.  357.  271.  783.  472.\n",
      "  395.   56.  641.  429.  157.  162.  799. 1370.   22.  215. 1017.  298.\n",
      "  126.    8.  555.  270.  339.  342. 1434.   30.  397.  620.    6.  209.\n",
      "  419.  283.  188.  267.  245. 1065.  207.  456.  131.   94.  567.  153.\n",
      "   53.  234.  108.  208.  597.  505.  332.  212.  493.  681.  287.  202.\n",
      "   37.   72.  325. 1212.  319.  514.  551.  142.  293.  107.  127. 1816.\n",
      "  200.  418.  387.  156.   47.  265.   31.   28.  369.  854.   46.  266.\n",
      "  321.   99.  430.  264.  118.  343.    5.  722.  748.  523.  421.   15.\n",
      "  502.  193.  347.  468.  388. 1735.  172.  117.  587.  501.  282.  110.\n",
      "  104.  378. 1407.  738.   70.  904.  336.  238.  585.   68. 1713.  218.\n",
      "  661.  566.  136.  160.   76.   44.  792.   73.   90.  346.  192.  682.\n",
      "  651.  405.  350.   36.  389. 3025.  219.  427.  533.   19.  819.  278.\n",
      "  617.   34.  668.   75.  146.  356.  251.  352.  184.  568.  260.  447.\n",
      "  426.  174.  284.  428.  237. 1031.  700.  590.   43.   27. 1181.  122.\n",
      "  307.  770.  767.  232.  986.   66.  158.  306.  559.  183.  631. 1282.\n",
      " 1199.  244.   55.  290.  385.  133.   91.   25.  275.  632.  100.   41.\n",
      "  446.  304.  335.  276.   42.  614.  557. 1663.  510. 1259.  225.  404.\n",
      " 1015.  761.  464.  206.  667.  143.  717.   38.  254.  882.  957.  299.\n",
      "  167.  500.  177.  457.  460. 1028.  315.  381.  643.  508.  128.  492.\n",
      "  257.  241.  536.  601. 1168.  277.  364.  229.  402.  175.  255.  820.\n",
      "  116.  463.  603.  191. 2087.  754.  303.  288.  891.  558.  228.  353.\n",
      "  296.  432. 1130.  305.  274.  860.  420.  756.  968.  408.   13.  763.\n",
      "  316.   50.    4.   78.  286.  766.  648.  688.   21.  593.  407.  563.\n",
      "   52.  803.  396.  637.  945. 1178.  506.  409.  327.  618.  936.  329.\n",
      "  179.  731.  670.  318.  415.  137.  349.  263.  671.  452.  163.  586.\n",
      "  650.  610.  747.  252.  883.  684.  686. 1060.  724.  424.  712.  753.\n",
      " 1081.  376.  433.  411. 1083.  757.  524.  653.   93.  503.  217.  475.\n",
      "  340.  242.  530.   23.  935.  773.  423.  626.  578.  248.  528.  785.\n",
      "  952. 1174.  915.  937.  129. 1063.  758.  574.  847. 1558.  789. 1441.\n",
      "  322. 1504.  537.  611.   26.   12.  235.  796. 1126.  697.  931. 1034.\n",
      "  362.  410.  570.  633.  659.  302.  727.  214.  173.  635.  540. 1210.\n",
      "  486.  646.  326.  414.  716.  449.  580.  399. 1029.  755.  619.  606.\n",
      "  971.  348.  594. 1275.  379. 1032.  393.  808.  923.  413.  541.  602.\n",
      "  762.  360.  310.  311.  638.  355.  300.  417.  308.  657.  434.  488.\n",
      " 1309. 1056.  908.  401.  827.  735.  691.  461.  669. 1473. 1386.  294.\n",
      "  910.  550. 1366. 1532.  955.  513. 1236.  809.  482. 1164.  674.  709.\n",
      "  436.  374.  309.  363.  422.  358.  640.  439.  476.  480.  517.  993.\n",
      "   33.  730.  636.  750.  334.  868.  351. 1689.  607.  485. 1021.  732.\n",
      "  577.  733.  788.  863. 1073.  525.  696.  535.  370.  465.  338.  956.\n",
      "  546.  470.  836.  544.  443. 1149.  707. 1451. 1143.  477.  450.  467.\n",
      "  292.  806.  560.  759. 1183.  598.  466.  431.  269.  542.  562.  515.\n",
      " 1165.  547.  780.  916.  474.  509.  679. 1472.  965. 1139.  504.  672.\n",
      "  749.  454.  531.  479.  384.  973.  728.  656.  998.  320.  615.  612.\n",
      "  664.  394.  877. 1971. 1258.  599.  655. 1994.  743.  924.  929.  491.\n",
      "  719.  565. 1529.  390. 1467. 1007.  665.  990.  582.  458.  775.  497.\n",
      "  698.  702.  520. 1156.  884. 1521.  359.  527.  994. 1579.  437. 1225.\n",
      "  865.  569. 1011.  814.  984.  392.  595. 1448.  529. 1006.  622.  494.\n",
      " 1022. 1044.  781. 1124.  400.  516. 1516.  978.  720.  495.  798.  876.\n",
      "  875.  481.  793. 1117. 1223. 1101.  744. 2769.  561.  715.  639.  538.\n",
      " 1721. 1608.  725.  519.  490.  907.  680.  977.  959.  693. 2029. 1009.\n",
      "  718.  805.  623.  976.  600.  469. 1010.  634. 1531.  764.  532.  825.\n",
      "  539.  816.  821. 1231.  742. 2456.  721.  777.  548.  830.  645.  723.\n",
      "  746.  869. 1173.  624.  518.  815.  857.  921.  627.  800.  366. 1088.\n",
      "  812.  866. 1151.  873.  592.  663.  576. 1476.  951. 1234. 1263.  660.]\n",
      "------------------------------------------------------------\n",
      "campaign\n",
      "[ 1  4  2  5  3  6 18 10  9  7 12 14 13 24 11  8 29 32 16 22 15 30 25 21\n",
      " 17 19 23 20 50 28 31 44]\n",
      "------------------------------------------------------------\n",
      "pdays\n",
      "[ -1 339 330 176 147 241 152 105 342 101   5  92  56 170 182 297 196 460\n",
      " 137 367 145 169 207 266 288 168 345 436  90 183 146 335 347 119   7 271\n",
      " 181  88 141 126  61 373 351 242  62  91 308 250 172 265  78  28  79   1\n",
      " 188 167  89 164 462 209 321 254  94 364  96 356 149 363 275 325 341 260\n",
      " 358  87 303  98 327 337 322 102  99 370  84 212  63  81 191 360 332  80\n",
      "  85 247 150 175 382 261 336  58 206 112 199 133 208 253 135 278 140 298\n",
      " 273 124 281 162 323 349 117   2 256 333 116 268 136 198 357 259 353 174\n",
      " 371 205 246  69 315 110 461 184 270 127 187  64 130 346 100 352 808 113\n",
      " 378 292 287 107 293 139 138 193 274  97 103 359 185 674 211 300 334 280\n",
      " 479  95 262 362 225   3 366  60 190 368 122 343 131 365 299 115 316 180\n",
      " 154 313 264 350  73 232 204 143 375 186 344 210 248 177 221 189 104 258\n",
      " 305 171 120 317 178 386 118 404 374 282 179 284 227 291 173 871 238 294\n",
      " 222 435 340 426 239  83 111 415 255 235 244  38 683 329  59 151 192 158\n",
      " 338 388 165 348 197 295 109 484 326 369 397 414 319 474  93 249 272 355\n",
      " 195  82 541 231 153 201 761 114 385 267 161 467  75 106 223 312 148 309\n",
      " 283  86 166 160 450 500 311 123 159 687 224 361  74  76 286  77  57 219\n",
      " 331 804 144 234]\n",
      "------------------------------------------------------------\n",
      "previous\n",
      "[ 0  4  1  3  2  5 20  7  6 10  9  8 18 19 12 13 11 14 15 24 17 22 23 25]\n",
      "------------------------------------------------------------\n",
      "poutcome\n",
      "['unknown' 'failure' 'other' 'success']\n",
      "------------------------------------------------------------\n",
      "y\n",
      "[0 1]\n",
      "------------------------------------------------------------\n"
     ]
    }
   ],
   "source": [
    "for i in df.columns:\n",
    "    print(i)\n",
    "    print(df[i].unique())\n",
    "    print('---'*20)"
   ]
  },
  {
   "cell_type": "code",
   "execution_count": 32,
   "metadata": {},
   "outputs": [
    {
     "data": {
      "text/plain": [
       "3"
      ]
     },
     "execution_count": 32,
     "metadata": {},
     "output_type": "execute_result"
    }
   ],
   "source": [
    "df['marital'].isnull().sum()"
   ]
  },
  {
   "cell_type": "code",
   "execution_count": 33,
   "metadata": {},
   "outputs": [
    {
     "data": {
      "text/plain": [
       "0    married\n",
       "dtype: object"
      ]
     },
     "execution_count": 33,
     "metadata": {},
     "output_type": "execute_result"
    }
   ],
   "source": [
    "df['marital'].mode()"
   ]
  },
  {
   "cell_type": "code",
   "execution_count": 34,
   "metadata": {},
   "outputs": [
    {
     "data": {
      "text/plain": [
       "dtype('O')"
      ]
     },
     "execution_count": 34,
     "metadata": {},
     "output_type": "execute_result"
    }
   ],
   "source": [
    "df['marital'].dtype"
   ]
  },
  {
   "cell_type": "code",
   "execution_count": 35,
   "metadata": {},
   "outputs": [],
   "source": [
    "df['marital'].replace({np.nan:'married'}, inplace = True)"
   ]
  },
  {
   "cell_type": "code",
   "execution_count": 36,
   "metadata": {},
   "outputs": [
    {
     "data": {
      "text/plain": [
       "0       married\n",
       "1       married\n",
       "2        single\n",
       "3       married\n",
       "4       married\n",
       "         ...   \n",
       "4516    married\n",
       "4517    married\n",
       "4518    married\n",
       "4519    married\n",
       "4520    married\n",
       "Name: marital, Length: 4521, dtype: object"
      ]
     },
     "execution_count": 36,
     "metadata": {},
     "output_type": "execute_result"
    }
   ],
   "source": [
    "df['marital']"
   ]
  },
  {
   "cell_type": "code",
   "execution_count": 37,
   "metadata": {},
   "outputs": [],
   "source": [
    "# returns percentage distribution of all categorical items in a specified column\n",
    "def value_perc(feature):\n",
    "    perc = feature.value_counts(normalize=True).reset_index()\n",
    "    perc.columns = ['value', 'perc']\n",
    "    perc['perc'] = round( perc['perc'] * 100 , 2)\n",
    "    return perc"
   ]
  },
  {
   "cell_type": "code",
   "execution_count": 38,
   "metadata": {},
   "outputs": [],
   "source": [
    "df_features['marital'] = df['marital']"
   ]
  },
  {
   "cell_type": "code",
   "execution_count": 39,
   "metadata": {},
   "outputs": [
    {
     "name": "stdout",
     "output_type": "stream",
     "text": [
      "      value   perc\n",
      "0   married  61.91\n",
      "1    single  26.41\n",
      "2  divorced  11.68\n"
     ]
    },
    {
     "data": {
      "image/png": "[encoded data removed]",
      "text/plain": [
       "<Figure size 432x288 with 1 Axes>"
      ]
     },
     "metadata": {
      "needs_background": "light"
     },
     "output_type": "display_data"
    }
   ],
   "source": [
    "sns.countplot(y='marital', data=df_features)\n",
    "print(value_perc(df_features.marital))"
   ]
  },
  {
   "cell_type": "markdown",
   "metadata": {},
   "source": [
    "### Feature: Education"
   ]
  },
  {
   "cell_type": "code",
   "execution_count": 40,
   "metadata": {},
   "outputs": [],
   "source": [
    "df_features['education'] = df['education']"
   ]
  },
  {
   "cell_type": "code",
   "execution_count": 41,
   "metadata": {},
   "outputs": [
    {
     "data": {
      "text/plain": [
       "dtype('O')"
      ]
     },
     "execution_count": 41,
     "metadata": {},
     "output_type": "execute_result"
    }
   ],
   "source": [
    "df['education'].dtype"
   ]
  },
  {
   "cell_type": "code",
   "execution_count": 42,
   "metadata": {},
   "outputs": [
    {
     "data": {
      "text/plain": [
       "3"
      ]
     },
     "execution_count": 42,
     "metadata": {},
     "output_type": "execute_result"
    }
   ],
   "source": [
    "df['education'].isnull().sum()"
   ]
  },
  {
   "cell_type": "code",
   "execution_count": 43,
   "metadata": {},
   "outputs": [
    {
     "data": {
      "text/plain": [
       "0    secondary\n",
       "dtype: object"
      ]
     },
     "execution_count": 43,
     "metadata": {},
     "output_type": "execute_result"
    }
   ],
   "source": [
    "df['education'].mode()"
   ]
  },
  {
   "cell_type": "code",
   "execution_count": 44,
   "metadata": {},
   "outputs": [],
   "source": [
    "df['education'].replace({np.nan:'secondary'}, inplace = True)"
   ]
  },
  {
   "cell_type": "code",
   "execution_count": 45,
   "metadata": {},
   "outputs": [],
   "source": [
    "df['education'].replace({'na':'secondary'}, inplace = True)"
   ]
  },
  {
   "cell_type": "code",
   "execution_count": 46,
   "metadata": {},
   "outputs": [
    {
     "data": {
      "text/plain": [
       "0         primary\n",
       "1       secondary\n",
       "2        tertiary\n",
       "3        tertiary\n",
       "4       secondary\n",
       "          ...    \n",
       "4516    secondary\n",
       "4517     tertiary\n",
       "4518    secondary\n",
       "4519    secondary\n",
       "4520     tertiary\n",
       "Name: education, Length: 4521, dtype: object"
      ]
     },
     "execution_count": 46,
     "metadata": {},
     "output_type": "execute_result"
    }
   ],
   "source": [
    "df['education']"
   ]
  },
  {
   "cell_type": "code",
   "execution_count": 47,
   "metadata": {},
   "outputs": [
    {
     "data": {
      "text/plain": [
       "0"
      ]
     },
     "execution_count": 47,
     "metadata": {},
     "output_type": "execute_result"
    }
   ],
   "source": [
    "df['education'].isnull().sum()"
   ]
  },
  {
   "cell_type": "code",
   "execution_count": 141,
   "metadata": {},
   "outputs": [],
   "source": [
    "df_features['education'] = df['education']"
   ]
  },
  {
   "cell_type": "code",
   "execution_count": 142,
   "metadata": {},
   "outputs": [
    {
     "data": {
      "text/plain": [
       "dtype('O')"
      ]
     },
     "execution_count": 142,
     "metadata": {},
     "output_type": "execute_result"
    }
   ],
   "source": [
    "df['education'].dtype"
   ]
  },
  {
   "cell_type": "code",
   "execution_count": 143,
   "metadata": {},
   "outputs": [
    {
     "data": {
      "text/plain": [
       "<matplotlib.axes._subplots.AxesSubplot at 0x1c4bbef290>"
      ]
     },
     "execution_count": 143,
     "metadata": {},
     "output_type": "execute_result"
    },
    {
     "data": {
      "image/png": "[encoded data removed]",
      "text/plain": [
       "<Figure size 432x288 with 1 Axes>"
      ]
     },
     "metadata": {
      "needs_background": "light"
     },
     "output_type": "display_data"
    }
   ],
   "source": [
    "sns.countplot(y='education', data=df_features)"
   ]
  },
  {
   "cell_type": "markdown",
   "metadata": {},
   "source": [
    "### Feature: default"
   ]
  },
  {
   "cell_type": "code",
   "execution_count": 50,
   "metadata": {},
   "outputs": [
    {
     "data": {
      "text/plain": [
       "0"
      ]
     },
     "execution_count": 50,
     "metadata": {},
     "output_type": "execute_result"
    }
   ],
   "source": [
    "df['default'].isnull().sum()"
   ]
  },
  {
   "cell_type": "code",
   "execution_count": 51,
   "metadata": {},
   "outputs": [
    {
     "data": {
      "text/plain": [
       "0    no\n",
       "dtype: object"
      ]
     },
     "execution_count": 51,
     "metadata": {},
     "output_type": "execute_result"
    }
   ],
   "source": [
    "df['default'].mode()"
   ]
  },
  {
   "cell_type": "code",
   "execution_count": 52,
   "metadata": {},
   "outputs": [],
   "source": [
    "df_features['default'] = df['default']"
   ]
  },
  {
   "cell_type": "code",
   "execution_count": 53,
   "metadata": {},
   "outputs": [],
   "source": [
    "# conver categorical default values to numeric values\n",
    "df_features['default'] = df_features['default'].apply(yes_no_encoder)"
   ]
  },
  {
   "cell_type": "code",
   "execution_count": 54,
   "metadata": {},
   "outputs": [
    {
     "name": "stdout",
     "output_type": "stream",
     "text": [
      "  value   perc\n",
      "0    no  98.32\n",
      "1   yes   1.68\n"
     ]
    },
    {
     "data": {
      "image/png": "[encoded data removed]",
      "text/plain": [
       "<Figure size 432x288 with 1 Axes>"
      ]
     },
     "metadata": {
      "needs_background": "light"
     },
     "output_type": "display_data"
    }
   ],
   "source": [
    "sns.countplot(y='default', data=df_features)\n",
    "print(value_perc(df['default']))\n"
   ]
  },
  {
   "cell_type": "markdown",
   "metadata": {},
   "source": [
    "### Feature: Balance"
   ]
  },
  {
   "cell_type": "code",
   "execution_count": 55,
   "metadata": {},
   "outputs": [
    {
     "data": {
      "text/plain": [
       "1"
      ]
     },
     "execution_count": 55,
     "metadata": {},
     "output_type": "execute_result"
    }
   ],
   "source": [
    "df['balance'].isnull().sum()"
   ]
  },
  {
   "cell_type": "code",
   "execution_count": 56,
   "metadata": {},
   "outputs": [
    {
     "data": {
      "text/plain": [
       "dtype('O')"
      ]
     },
     "execution_count": 56,
     "metadata": {},
     "output_type": "execute_result"
    }
   ],
   "source": [
    "df['balance'].dtype"
   ]
  },
  {
   "cell_type": "code",
   "execution_count": 57,
   "metadata": {},
   "outputs": [
    {
     "data": {
      "text/plain": [
       "1"
      ]
     },
     "execution_count": 57,
     "metadata": {},
     "output_type": "execute_result"
    }
   ],
   "source": [
    "df['balance'].isnull().sum()"
   ]
  },
  {
   "cell_type": "code",
   "execution_count": 65,
   "metadata": {},
   "outputs": [
    {
     "data": {
      "text/plain": [
       "1"
      ]
     },
     "execution_count": 65,
     "metadata": {},
     "output_type": "execute_result"
    }
   ],
   "source": [
    "df['balance'].isna().sum()"
   ]
  },
  {
   "cell_type": "code",
   "execution_count": 70,
   "metadata": {},
   "outputs": [
    {
     "data": {
      "text/plain": [
       "1"
      ]
     },
     "execution_count": 70,
     "metadata": {},
     "output_type": "execute_result"
    }
   ],
   "source": [
    "df['balance'].fillna(axis = 0, method = 'ffill')\n",
    "df['balance'].isnull().sum()\n",
    "df['balance'].dtype\n",
    "df['balance'].isna().sum()"
   ]
  },
  {
   "cell_type": "code",
   "execution_count": 58,
   "metadata": {},
   "outputs": [],
   "source": [
    "df_features['balance'] = df['balance']"
   ]
  },
  {
   "cell_type": "code",
   "execution_count": 63,
   "metadata": {},
   "outputs": [
    {
     "name": "stdout",
     "output_type": "stream",
     "text": [
      "age\n",
      "[30 33 35 59 36 39 41 43 20 31 40 56 37 25 38 42 44 26 55 67 53 68 32 49\n",
      " 78 23 52 34 61 45 48 57 54 63 51 29 50 27 60 28 21 58 22 46 24 77 75 47\n",
      " 70 65 64 62 66 19 81 83 80 71 72 69 79 73 86 74 76 87 84]\n",
      "------------------------------------------------------------\n",
      "job\n",
      "['unemployed' 'services' 'management' 'blue-collar' 'self-employed'\n",
      " 'technician' 'entrepreneur' 'admin.' 'student' 'housemaid' 'retired'\n",
      " 'unknown']\n",
      "------------------------------------------------------------\n",
      "marital\n",
      "['married' 'single' 'divorced']\n",
      "------------------------------------------------------------\n",
      "education\n",
      "['primary' 'secondary' 'tertiary' 'unknown']\n",
      "------------------------------------------------------------\n",
      "default\n",
      "['no' 'yes']\n",
      "------------------------------------------------------------\n",
      "balance\n",
      "['1787' '4789' '1350' ... '-333' '-3313' '1137']\n",
      "------------------------------------------------------------\n",
      "housing\n",
      "['no' 'yes' nan]\n",
      "------------------------------------------------------------\n",
      "loan\n",
      "['no' 'yes']\n",
      "------------------------------------------------------------\n",
      "contact\n",
      "['cellular' 'unknown' nan 'telephone']\n",
      "------------------------------------------------------------\n",
      "day\n",
      "[19. 11. 16.  3.  5. 23. 14.  6. 17. 20. 13. 30. 29. 27.  7. 18. 12. 21.\n",
      " 26. 22.  2.  4. 15.  8. 28.  9.  1. nan 10. 31. 25. 24.]\n",
      "------------------------------------------------------------\n",
      "month\n",
      "['oct' 'may' 'apr' 'jun' 'feb' 'aug' 'jan' 'jul' 'nov' 'sep' 'mar' 'dec']\n",
      "------------------------------------------------------------\n",
      "duration\n",
      "[  79.  220.  185.  199.  226.  141.  341.  151.   57.  313.  273.  113.\n",
      "  328.  261.   89.  189.  239.  114.  250.  148.   96.  140.  109.  125.\n",
      "  169.  182.  247.  119.  149.   74.  897.   81.   40.  958.  354.  150.\n",
      "   97.  132.  765.   16.  609.  106.  365.  205.   11.  105.   59.  425.\n",
      "  204.  181. 1018. 1740.   98.  441.  272.  159.  295.  314.  579.  554.\n",
      "  323.  227.  134.  223.  155.  130.  630.  164.  268.  380.  154.  221.\n",
      "   67.  367.   87.  701.  652.   63.  398.  224.  406.   60.  521.  279.\n",
      "  203.  201.  372.  391.  165.  231.  291.  233.  473.  736.  337.  553.\n",
      "  345.   65.    9.  259.  371.  280.  243.  435.  258.    7.  317.   nan\n",
      "  170.  386.   83.   69.  564.  588.  779.  281. 1877.   51.   32.  176.\n",
      "  161.  187.   24.   85.  236.   54.   71.  489.   39.  455.   86.  190.\n",
      "   45.  168.  194.  103.  333.  102.   92.  213.  289.   77.  324.   84.\n",
      "   10.   35.   82.  676.   80.  549.  135.  412.  101.  253.  166.   18.\n",
      "  147.   14.   61.  377.  152.  382.  543.  240.   48.  471.  285.  301.\n",
      "  768. 1337.  403.  139.  196.  115.   17.   95.  198.  654.  256.  834.\n",
      "   20.  178.  111.  186.  297.  210.  112.  222.  195.  123.  145.  124.\n",
      "  216.  483.  690.  344.  673.  144.  246.  361.  375. 1097.  180.  373.\n",
      "  230.   58.   88.  487.   29.  484.  262.  644.  699.   49.   64.  121.\n",
      "  197.  331.  138.  312.  120.  526.  211.   62.  988.  451. 1030. 1484.\n",
      "  445.  383.  605.  330.  171.  442.  772.  249.  357.  271.  783.  472.\n",
      "  395.   56.  641.  429.  157.  162.  799. 1370.   22.  215. 1017.  298.\n",
      "  126.    8.  555.  270.  339.  342. 1434.   30.  397.  620.    6.  209.\n",
      "  419.  283.  188.  267.  245. 1065.  207.  456.  131.   94.  567.  153.\n",
      "   53.  234.  108.  208.  597.  505.  332.  212.  493.  681.  287.  202.\n",
      "   37.   72.  325. 1212.  319.  514.  551.  142.  293.  107.  127. 1816.\n",
      "  200.  418.  387.  156.   47.  265.   31.   28.  369.  854.   46.  266.\n",
      "  321.   99.  430.  264.  118.  343.    5.  722.  748.  523.  421.   15.\n",
      "  502.  193.  347.  468.  388. 1735.  172.  117.  587.  501.  282.  110.\n",
      "  104.  378. 1407.  738.   70.  904.  336.  238.  585.   68. 1713.  218.\n",
      "  661.  566.  136.  160.   76.   44.  792.   73.   90.  346.  192.  682.\n",
      "  651.  405.  350.   36.  389. 3025.  219.  427.  533.   19.  819.  278.\n",
      "  617.   34.  668.   75.  146.  356.  251.  352.  184.  568.  260.  447.\n",
      "  426.  174.  284.  428.  237. 1031.  700.  590.   43.   27. 1181.  122.\n",
      "  307.  770.  767.  232.  986.   66.  158.  306.  559.  183.  631. 1282.\n",
      " 1199.  244.   55.  290.  385.  133.   91.   25.  275.  632.  100.   41.\n",
      "  446.  304.  335.  276.   42.  614.  557. 1663.  510. 1259.  225.  404.\n",
      " 1015.  761.  464.  206.  667.  143.  717.   38.  254.  882.  957.  299.\n",
      "  167.  500.  177.  457.  460. 1028.  315.  381.  643.  508.  128.  492.\n",
      "  257.  241.  536.  601. 1168.  277.  364.  229.  402.  175.  255.  820.\n",
      "  116.  463.  603.  191. 2087.  754.  303.  288.  891.  558.  228.  353.\n",
      "  296.  432. 1130.  305.  274.  860.  420.  756.  968.  408.   13.  763.\n",
      "  316.   50.    4.   78.  286.  766.  648.  688.   21.  593.  407.  563.\n",
      "   52.  803.  396.  637.  945. 1178.  506.  409.  327.  618.  936.  329.\n",
      "  179.  731.  670.  318.  415.  137.  349.  263.  671.  452.  163.  586.\n",
      "  650.  610.  747.  252.  883.  684.  686. 1060.  724.  424.  712.  753.\n",
      " 1081.  376.  433.  411. 1083.  757.  524.  653.   93.  503.  217.  475.\n",
      "  340.  242.  530.   23.  935.  773.  423.  626.  578.  248.  528.  785.\n",
      "  952. 1174.  915.  937.  129. 1063.  758.  574.  847. 1558.  789. 1441.\n",
      "  322. 1504.  537.  611.   26.   12.  235.  796. 1126.  697.  931. 1034.\n",
      "  362.  410.  570.  633.  659.  302.  727.  214.  173.  635.  540. 1210.\n",
      "  486.  646.  326.  414.  716.  449.  580.  399. 1029.  755.  619.  606.\n",
      "  971.  348.  594. 1275.  379. 1032.  393.  808.  923.  413.  541.  602.\n",
      "  762.  360.  310.  311.  638.  355.  300.  417.  308.  657.  434.  488.\n",
      " 1309. 1056.  908.  401.  827.  735.  691.  461.  669. 1473. 1386.  294.\n",
      "  910.  550. 1366. 1532.  955.  513. 1236.  809.  482. 1164.  674.  709.\n",
      "  436.  374.  309.  363.  422.  358.  640.  439.  476.  480.  517.  993.\n",
      "   33.  730.  636.  750.  334.  868.  351. 1689.  607.  485. 1021.  732.\n",
      "  577.  733.  788.  863. 1073.  525.  696.  535.  370.  465.  338.  956.\n",
      "  546.  470.  836.  544.  443. 1149.  707. 1451. 1143.  477.  450.  467.\n",
      "  292.  806.  560.  759. 1183.  598.  466.  431.  269.  542.  562.  515.\n",
      " 1165.  547.  780.  916.  474.  509.  679. 1472.  965. 1139.  504.  672.\n",
      "  749.  454.  531.  479.  384.  973.  728.  656.  998.  320.  615.  612.\n",
      "  664.  394.  877. 1971. 1258.  599.  655. 1994.  743.  924.  929.  491.\n",
      "  719.  565. 1529.  390. 1467. 1007.  665.  990.  582.  458.  775.  497.\n",
      "  698.  702.  520. 1156.  884. 1521.  359.  527.  994. 1579.  437. 1225.\n",
      "  865.  569. 1011.  814.  984.  392.  595. 1448.  529. 1006.  622.  494.\n",
      " 1022. 1044.  781. 1124.  400.  516. 1516.  978.  720.  495.  798.  876.\n",
      "  875.  481.  793. 1117. 1223. 1101.  744. 2769.  561.  715.  639.  538.\n",
      " 1721. 1608.  725.  519.  490.  907.  680.  977.  959.  693. 2029. 1009.\n",
      "  718.  805.  623.  976.  600.  469. 1010.  634. 1531.  764.  532.  825.\n",
      "  539.  816.  821. 1231.  742. 2456.  721.  777.  548.  830.  645.  723.\n",
      "  746.  869. 1173.  624.  518.  815.  857.  921.  627.  800.  366. 1088.\n",
      "  812.  866. 1151.  873.  592.  663.  576. 1476.  951. 1234. 1263.  660.]\n",
      "------------------------------------------------------------\n",
      "campaign\n",
      "[ 1  4  2  5  3  6 18 10  9  7 12 14 13 24 11  8 29 32 16 22 15 30 25 21\n",
      " 17 19 23 20 50 28 31 44]\n",
      "------------------------------------------------------------\n",
      "pdays\n",
      "[ -1 339 330 176 147 241 152 105 342 101   5  92  56 170 182 297 196 460\n",
      " 137 367 145 169 207 266 288 168 345 436  90 183 146 335 347 119   7 271\n",
      " 181  88 141 126  61 373 351 242  62  91 308 250 172 265  78  28  79   1\n",
      " 188 167  89 164 462 209 321 254  94 364  96 356 149 363 275 325 341 260\n",
      " 358  87 303  98 327 337 322 102  99 370  84 212  63  81 191 360 332  80\n",
      "  85 247 150 175 382 261 336  58 206 112 199 133 208 253 135 278 140 298\n",
      " 273 124 281 162 323 349 117   2 256 333 116 268 136 198 357 259 353 174\n",
      " 371 205 246  69 315 110 461 184 270 127 187  64 130 346 100 352 808 113\n",
      " 378 292 287 107 293 139 138 193 274  97 103 359 185 674 211 300 334 280\n",
      " 479  95 262 362 225   3 366  60 190 368 122 343 131 365 299 115 316 180\n",
      " 154 313 264 350  73 232 204 143 375 186 344 210 248 177 221 189 104 258\n",
      " 305 171 120 317 178 386 118 404 374 282 179 284 227 291 173 871 238 294\n",
      " 222 435 340 426 239  83 111 415 255 235 244  38 683 329  59 151 192 158\n",
      " 338 388 165 348 197 295 109 484 326 369 397 414 319 474  93 249 272 355\n",
      " 195  82 541 231 153 201 761 114 385 267 161 467  75 106 223 312 148 309\n",
      " 283  86 166 160 450 500 311 123 159 687 224 361  74  76 286  77  57 219\n",
      " 331 804 144 234]\n",
      "------------------------------------------------------------\n",
      "previous\n",
      "[ 0  4  1  3  2  5 20  7  6 10  9  8 18 19 12 13 11 14 15 24 17 22 23 25]\n",
      "------------------------------------------------------------\n",
      "poutcome\n",
      "['unknown' 'failure' 'other' 'success']\n",
      "------------------------------------------------------------\n",
      "y\n",
      "[0 1]\n",
      "------------------------------------------------------------\n"
     ]
    }
   ],
   "source": [
    "for i in df.columns:\n",
    "    print(i)\n",
    "    print(df[i].unique())\n",
    "    print('---'*20)"
   ]
  },
  {
   "cell_type": "code",
   "execution_count": 71,
   "metadata": {},
   "outputs": [],
   "source": [
    "df['balance'] = pd.to_numeric(df['balance'],errors='coerce')"
   ]
  },
  {
   "cell_type": "code",
   "execution_count": 76,
   "metadata": {},
   "outputs": [
    {
     "data": {
      "text/plain": [
       "1422.2682602921648"
      ]
     },
     "execution_count": 76,
     "metadata": {},
     "output_type": "execute_result"
    }
   ],
   "source": [
    "df['balance'].apply(np.floor).mean()"
   ]
  },
  {
   "cell_type": "code",
   "execution_count": 77,
   "metadata": {},
   "outputs": [],
   "source": [
    "df['balance'].replace({np.nan:1422}, inplace = True)"
   ]
  },
  {
   "cell_type": "code",
   "execution_count": 79,
   "metadata": {},
   "outputs": [
    {
     "data": {
      "text/plain": [
       "dtype('float64')"
      ]
     },
     "execution_count": 79,
     "metadata": {},
     "output_type": "execute_result"
    }
   ],
   "source": [
    "df['balance'].isnull().sum()\n",
    "df['balance'].dtype\n",
    "#df['balance'].isna().sum()"
   ]
  },
  {
   "cell_type": "code",
   "execution_count": 80,
   "metadata": {},
   "outputs": [
    {
     "name": "stdout",
     "output_type": "stream",
     "text": [
      "age\n",
      "[30 33 35 59 36 39 41 43 20 31 40 56 37 25 38 42 44 26 55 67 53 68 32 49\n",
      " 78 23 52 34 61 45 48 57 54 63 51 29 50 27 60 28 21 58 22 46 24 77 75 47\n",
      " 70 65 64 62 66 19 81 83 80 71 72 69 79 73 86 74 76 87 84]\n",
      "------------------------------------------------------------\n",
      "job\n",
      "['unemployed' 'services' 'management' 'blue-collar' 'self-employed'\n",
      " 'technician' 'entrepreneur' 'admin.' 'student' 'housemaid' 'retired'\n",
      " 'unknown']\n",
      "------------------------------------------------------------\n",
      "marital\n",
      "['married' 'single' 'divorced']\n",
      "------------------------------------------------------------\n",
      "education\n",
      "['primary' 'secondary' 'tertiary' 'unknown']\n",
      "------------------------------------------------------------\n",
      "default\n",
      "['no' 'yes']\n",
      "------------------------------------------------------------\n",
      "balance\n",
      "[ 1787.  4789.  1350. ...  -333. -3313.  1137.]\n",
      "------------------------------------------------------------\n",
      "housing\n",
      "['no' 'yes' nan]\n",
      "------------------------------------------------------------\n",
      "loan\n",
      "['no' 'yes']\n",
      "------------------------------------------------------------\n",
      "contact\n",
      "['cellular' 'unknown' nan 'telephone']\n",
      "------------------------------------------------------------\n",
      "day\n",
      "[19. 11. 16.  3.  5. 23. 14.  6. 17. 20. 13. 30. 29. 27.  7. 18. 12. 21.\n",
      " 26. 22.  2.  4. 15.  8. 28.  9.  1. nan 10. 31. 25. 24.]\n",
      "------------------------------------------------------------\n",
      "month\n",
      "['oct' 'may' 'apr' 'jun' 'feb' 'aug' 'jan' 'jul' 'nov' 'sep' 'mar' 'dec']\n",
      "------------------------------------------------------------\n",
      "duration\n",
      "[  79.  220.  185.  199.  226.  141.  341.  151.   57.  313.  273.  113.\n",
      "  328.  261.   89.  189.  239.  114.  250.  148.   96.  140.  109.  125.\n",
      "  169.  182.  247.  119.  149.   74.  897.   81.   40.  958.  354.  150.\n",
      "   97.  132.  765.   16.  609.  106.  365.  205.   11.  105.   59.  425.\n",
      "  204.  181. 1018. 1740.   98.  441.  272.  159.  295.  314.  579.  554.\n",
      "  323.  227.  134.  223.  155.  130.  630.  164.  268.  380.  154.  221.\n",
      "   67.  367.   87.  701.  652.   63.  398.  224.  406.   60.  521.  279.\n",
      "  203.  201.  372.  391.  165.  231.  291.  233.  473.  736.  337.  553.\n",
      "  345.   65.    9.  259.  371.  280.  243.  435.  258.    7.  317.   nan\n",
      "  170.  386.   83.   69.  564.  588.  779.  281. 1877.   51.   32.  176.\n",
      "  161.  187.   24.   85.  236.   54.   71.  489.   39.  455.   86.  190.\n",
      "   45.  168.  194.  103.  333.  102.   92.  213.  289.   77.  324.   84.\n",
      "   10.   35.   82.  676.   80.  549.  135.  412.  101.  253.  166.   18.\n",
      "  147.   14.   61.  377.  152.  382.  543.  240.   48.  471.  285.  301.\n",
      "  768. 1337.  403.  139.  196.  115.   17.   95.  198.  654.  256.  834.\n",
      "   20.  178.  111.  186.  297.  210.  112.  222.  195.  123.  145.  124.\n",
      "  216.  483.  690.  344.  673.  144.  246.  361.  375. 1097.  180.  373.\n",
      "  230.   58.   88.  487.   29.  484.  262.  644.  699.   49.   64.  121.\n",
      "  197.  331.  138.  312.  120.  526.  211.   62.  988.  451. 1030. 1484.\n",
      "  445.  383.  605.  330.  171.  442.  772.  249.  357.  271.  783.  472.\n",
      "  395.   56.  641.  429.  157.  162.  799. 1370.   22.  215. 1017.  298.\n",
      "  126.    8.  555.  270.  339.  342. 1434.   30.  397.  620.    6.  209.\n",
      "  419.  283.  188.  267.  245. 1065.  207.  456.  131.   94.  567.  153.\n",
      "   53.  234.  108.  208.  597.  505.  332.  212.  493.  681.  287.  202.\n",
      "   37.   72.  325. 1212.  319.  514.  551.  142.  293.  107.  127. 1816.\n",
      "  200.  418.  387.  156.   47.  265.   31.   28.  369.  854.   46.  266.\n",
      "  321.   99.  430.  264.  118.  343.    5.  722.  748.  523.  421.   15.\n",
      "  502.  193.  347.  468.  388. 1735.  172.  117.  587.  501.  282.  110.\n",
      "  104.  378. 1407.  738.   70.  904.  336.  238.  585.   68. 1713.  218.\n",
      "  661.  566.  136.  160.   76.   44.  792.   73.   90.  346.  192.  682.\n",
      "  651.  405.  350.   36.  389. 3025.  219.  427.  533.   19.  819.  278.\n",
      "  617.   34.  668.   75.  146.  356.  251.  352.  184.  568.  260.  447.\n",
      "  426.  174.  284.  428.  237. 1031.  700.  590.   43.   27. 1181.  122.\n",
      "  307.  770.  767.  232.  986.   66.  158.  306.  559.  183.  631. 1282.\n",
      " 1199.  244.   55.  290.  385.  133.   91.   25.  275.  632.  100.   41.\n",
      "  446.  304.  335.  276.   42.  614.  557. 1663.  510. 1259.  225.  404.\n",
      " 1015.  761.  464.  206.  667.  143.  717.   38.  254.  882.  957.  299.\n",
      "  167.  500.  177.  457.  460. 1028.  315.  381.  643.  508.  128.  492.\n",
      "  257.  241.  536.  601. 1168.  277.  364.  229.  402.  175.  255.  820.\n",
      "  116.  463.  603.  191. 2087.  754.  303.  288.  891.  558.  228.  353.\n",
      "  296.  432. 1130.  305.  274.  860.  420.  756.  968.  408.   13.  763.\n",
      "  316.   50.    4.   78.  286.  766.  648.  688.   21.  593.  407.  563.\n",
      "   52.  803.  396.  637.  945. 1178.  506.  409.  327.  618.  936.  329.\n",
      "  179.  731.  670.  318.  415.  137.  349.  263.  671.  452.  163.  586.\n",
      "  650.  610.  747.  252.  883.  684.  686. 1060.  724.  424.  712.  753.\n",
      " 1081.  376.  433.  411. 1083.  757.  524.  653.   93.  503.  217.  475.\n",
      "  340.  242.  530.   23.  935.  773.  423.  626.  578.  248.  528.  785.\n",
      "  952. 1174.  915.  937.  129. 1063.  758.  574.  847. 1558.  789. 1441.\n",
      "  322. 1504.  537.  611.   26.   12.  235.  796. 1126.  697.  931. 1034.\n",
      "  362.  410.  570.  633.  659.  302.  727.  214.  173.  635.  540. 1210.\n",
      "  486.  646.  326.  414.  716.  449.  580.  399. 1029.  755.  619.  606.\n",
      "  971.  348.  594. 1275.  379. 1032.  393.  808.  923.  413.  541.  602.\n",
      "  762.  360.  310.  311.  638.  355.  300.  417.  308.  657.  434.  488.\n",
      " 1309. 1056.  908.  401.  827.  735.  691.  461.  669. 1473. 1386.  294.\n",
      "  910.  550. 1366. 1532.  955.  513. 1236.  809.  482. 1164.  674.  709.\n",
      "  436.  374.  309.  363.  422.  358.  640.  439.  476.  480.  517.  993.\n",
      "   33.  730.  636.  750.  334.  868.  351. 1689.  607.  485. 1021.  732.\n",
      "  577.  733.  788.  863. 1073.  525.  696.  535.  370.  465.  338.  956.\n",
      "  546.  470.  836.  544.  443. 1149.  707. 1451. 1143.  477.  450.  467.\n",
      "  292.  806.  560.  759. 1183.  598.  466.  431.  269.  542.  562.  515.\n",
      " 1165.  547.  780.  916.  474.  509.  679. 1472.  965. 1139.  504.  672.\n",
      "  749.  454.  531.  479.  384.  973.  728.  656.  998.  320.  615.  612.\n",
      "  664.  394.  877. 1971. 1258.  599.  655. 1994.  743.  924.  929.  491.\n",
      "  719.  565. 1529.  390. 1467. 1007.  665.  990.  582.  458.  775.  497.\n",
      "  698.  702.  520. 1156.  884. 1521.  359.  527.  994. 1579.  437. 1225.\n",
      "  865.  569. 1011.  814.  984.  392.  595. 1448.  529. 1006.  622.  494.\n",
      " 1022. 1044.  781. 1124.  400.  516. 1516.  978.  720.  495.  798.  876.\n",
      "  875.  481.  793. 1117. 1223. 1101.  744. 2769.  561.  715.  639.  538.\n",
      " 1721. 1608.  725.  519.  490.  907.  680.  977.  959.  693. 2029. 1009.\n",
      "  718.  805.  623.  976.  600.  469. 1010.  634. 1531.  764.  532.  825.\n",
      "  539.  816.  821. 1231.  742. 2456.  721.  777.  548.  830.  645.  723.\n",
      "  746.  869. 1173.  624.  518.  815.  857.  921.  627.  800.  366. 1088.\n",
      "  812.  866. 1151.  873.  592.  663.  576. 1476.  951. 1234. 1263.  660.]\n",
      "------------------------------------------------------------\n",
      "campaign\n",
      "[ 1  4  2  5  3  6 18 10  9  7 12 14 13 24 11  8 29 32 16 22 15 30 25 21\n",
      " 17 19 23 20 50 28 31 44]\n",
      "------------------------------------------------------------\n",
      "pdays\n",
      "[ -1 339 330 176 147 241 152 105 342 101   5  92  56 170 182 297 196 460\n",
      " 137 367 145 169 207 266 288 168 345 436  90 183 146 335 347 119   7 271\n",
      " 181  88 141 126  61 373 351 242  62  91 308 250 172 265  78  28  79   1\n",
      " 188 167  89 164 462 209 321 254  94 364  96 356 149 363 275 325 341 260\n",
      " 358  87 303  98 327 337 322 102  99 370  84 212  63  81 191 360 332  80\n",
      "  85 247 150 175 382 261 336  58 206 112 199 133 208 253 135 278 140 298\n",
      " 273 124 281 162 323 349 117   2 256 333 116 268 136 198 357 259 353 174\n",
      " 371 205 246  69 315 110 461 184 270 127 187  64 130 346 100 352 808 113\n",
      " 378 292 287 107 293 139 138 193 274  97 103 359 185 674 211 300 334 280\n",
      " 479  95 262 362 225   3 366  60 190 368 122 343 131 365 299 115 316 180\n",
      " 154 313 264 350  73 232 204 143 375 186 344 210 248 177 221 189 104 258\n",
      " 305 171 120 317 178 386 118 404 374 282 179 284 227 291 173 871 238 294\n",
      " 222 435 340 426 239  83 111 415 255 235 244  38 683 329  59 151 192 158\n",
      " 338 388 165 348 197 295 109 484 326 369 397 414 319 474  93 249 272 355\n",
      " 195  82 541 231 153 201 761 114 385 267 161 467  75 106 223 312 148 309\n",
      " 283  86 166 160 450 500 311 123 159 687 224 361  74  76 286  77  57 219\n",
      " 331 804 144 234]\n",
      "------------------------------------------------------------\n",
      "previous\n",
      "[ 0  4  1  3  2  5 20  7  6 10  9  8 18 19 12 13 11 14 15 24 17 22 23 25]\n",
      "------------------------------------------------------------\n",
      "poutcome\n",
      "['unknown' 'failure' 'other' 'success']\n",
      "------------------------------------------------------------\n",
      "y\n",
      "[0 1]\n",
      "------------------------------------------------------------\n"
     ]
    }
   ],
   "source": [
    "for i in df.columns:\n",
    "    print(i)\n",
    "    print(df[i].unique())\n",
    "    print('---'*20)"
   ]
  },
  {
   "cell_type": "code",
   "execution_count": 82,
   "metadata": {},
   "outputs": [],
   "source": [
    "df_features['balance'] = df['balance']"
   ]
  },
  {
   "cell_type": "code",
   "execution_count": 83,
   "metadata": {},
   "outputs": [
    {
     "name": "stdout",
     "output_type": "stream",
     "text": [
      "The mean balance:  1422.27\n",
      "The mean balance:  3009.06\n"
     ]
    },
    {
     "data": {
      "image/png": "[encoded data removed]",
      "text/plain": [
       "<Figure size 432x288 with 1 Axes>"
      ]
     },
     "metadata": {
      "needs_background": "light"
     },
     "output_type": "display_data"
    }
   ],
   "source": [
    "sns.distplot(df_features['balance'])\n",
    "print(\"The mean balance: \", round(df_features['balance'].mean(), 2))\n",
    "print(\"The mean balance: \", round(df_features['balance'].std(), 2))"
   ]
  },
  {
   "cell_type": "code",
   "execution_count": 84,
   "metadata": {},
   "outputs": [
    {
     "data": {
      "text/html": [
       "<div>\n",
       "<style scoped>\n",
       "    .dataframe tbody tr th:only-of-type {\n",
       "        vertical-align: middle;\n",
       "    }\n",
       "\n",
       "    .dataframe tbody tr th {\n",
       "        vertical-align: top;\n",
       "    }\n",
       "\n",
       "    .dataframe thead th {\n",
       "        text-align: right;\n",
       "    }\n",
       "</style>\n",
       "<table border=\"1\" class=\"dataframe\">\n",
       "  <thead>\n",
       "    <tr style=\"text-align: right;\">\n",
       "      <th></th>\n",
       "      <th>age</th>\n",
       "      <th>job</th>\n",
       "      <th>marital</th>\n",
       "      <th>education</th>\n",
       "      <th>default</th>\n",
       "      <th>balance</th>\n",
       "      <th>housing</th>\n",
       "      <th>loan</th>\n",
       "      <th>contact</th>\n",
       "      <th>day</th>\n",
       "      <th>month</th>\n",
       "      <th>duration</th>\n",
       "      <th>campaign</th>\n",
       "      <th>pdays</th>\n",
       "      <th>previous</th>\n",
       "      <th>poutcome</th>\n",
       "      <th>y</th>\n",
       "    </tr>\n",
       "  </thead>\n",
       "  <tbody>\n",
       "    <tr>\n",
       "      <td>0</td>\n",
       "      <td>30</td>\n",
       "      <td>unemployed</td>\n",
       "      <td>married</td>\n",
       "      <td>primary</td>\n",
       "      <td>no</td>\n",
       "      <td>1787.0</td>\n",
       "      <td>no</td>\n",
       "      <td>no</td>\n",
       "      <td>cellular</td>\n",
       "      <td>19.0</td>\n",
       "      <td>oct</td>\n",
       "      <td>79.0</td>\n",
       "      <td>1</td>\n",
       "      <td>-1</td>\n",
       "      <td>0</td>\n",
       "      <td>unknown</td>\n",
       "      <td>0</td>\n",
       "    </tr>\n",
       "    <tr>\n",
       "      <td>1</td>\n",
       "      <td>33</td>\n",
       "      <td>services</td>\n",
       "      <td>married</td>\n",
       "      <td>secondary</td>\n",
       "      <td>no</td>\n",
       "      <td>4789.0</td>\n",
       "      <td>yes</td>\n",
       "      <td>yes</td>\n",
       "      <td>cellular</td>\n",
       "      <td>11.0</td>\n",
       "      <td>may</td>\n",
       "      <td>220.0</td>\n",
       "      <td>1</td>\n",
       "      <td>339</td>\n",
       "      <td>4</td>\n",
       "      <td>failure</td>\n",
       "      <td>0</td>\n",
       "    </tr>\n",
       "    <tr>\n",
       "      <td>2</td>\n",
       "      <td>35</td>\n",
       "      <td>management</td>\n",
       "      <td>single</td>\n",
       "      <td>tertiary</td>\n",
       "      <td>no</td>\n",
       "      <td>1350.0</td>\n",
       "      <td>yes</td>\n",
       "      <td>no</td>\n",
       "      <td>cellular</td>\n",
       "      <td>16.0</td>\n",
       "      <td>apr</td>\n",
       "      <td>185.0</td>\n",
       "      <td>1</td>\n",
       "      <td>330</td>\n",
       "      <td>1</td>\n",
       "      <td>failure</td>\n",
       "      <td>0</td>\n",
       "    </tr>\n",
       "    <tr>\n",
       "      <td>3</td>\n",
       "      <td>30</td>\n",
       "      <td>management</td>\n",
       "      <td>married</td>\n",
       "      <td>tertiary</td>\n",
       "      <td>no</td>\n",
       "      <td>1476.0</td>\n",
       "      <td>yes</td>\n",
       "      <td>yes</td>\n",
       "      <td>unknown</td>\n",
       "      <td>3.0</td>\n",
       "      <td>jun</td>\n",
       "      <td>199.0</td>\n",
       "      <td>4</td>\n",
       "      <td>-1</td>\n",
       "      <td>0</td>\n",
       "      <td>unknown</td>\n",
       "      <td>0</td>\n",
       "    </tr>\n",
       "    <tr>\n",
       "      <td>4</td>\n",
       "      <td>59</td>\n",
       "      <td>blue-collar</td>\n",
       "      <td>married</td>\n",
       "      <td>secondary</td>\n",
       "      <td>no</td>\n",
       "      <td>0.0</td>\n",
       "      <td>yes</td>\n",
       "      <td>no</td>\n",
       "      <td>unknown</td>\n",
       "      <td>5.0</td>\n",
       "      <td>may</td>\n",
       "      <td>226.0</td>\n",
       "      <td>1</td>\n",
       "      <td>-1</td>\n",
       "      <td>0</td>\n",
       "      <td>unknown</td>\n",
       "      <td>0</td>\n",
       "    </tr>\n",
       "  </tbody>\n",
       "</table>\n",
       "</div>"
      ],
      "text/plain": [
       "   age          job  marital  education default  balance housing loan  \\\n",
       "0   30   unemployed  married    primary      no   1787.0      no   no   \n",
       "1   33     services  married  secondary      no   4789.0     yes  yes   \n",
       "2   35   management   single   tertiary      no   1350.0     yes   no   \n",
       "3   30   management  married   tertiary      no   1476.0     yes  yes   \n",
       "4   59  blue-collar  married  secondary      no      0.0     yes   no   \n",
       "\n",
       "    contact   day month  duration  campaign  pdays  previous poutcome  y  \n",
       "0  cellular  19.0   oct      79.0         1     -1         0  unknown  0  \n",
       "1  cellular  11.0   may     220.0         1    339         4  failure  0  \n",
       "2  cellular  16.0   apr     185.0         1    330         1  failure  0  \n",
       "3   unknown   3.0   jun     199.0         4     -1         0  unknown  0  \n",
       "4   unknown   5.0   may     226.0         1     -1         0  unknown  0  "
      ]
     },
     "execution_count": 84,
     "metadata": {},
     "output_type": "execute_result"
    }
   ],
   "source": [
    "df.head()"
   ]
  },
  {
   "cell_type": "markdown",
   "metadata": {},
   "source": [
    "### Feature: Housing"
   ]
  },
  {
   "cell_type": "code",
   "execution_count": 85,
   "metadata": {},
   "outputs": [],
   "source": [
    "df['housing'].replace({np.nan:'yes'}, inplace = True)"
   ]
  },
  {
   "cell_type": "code",
   "execution_count": 86,
   "metadata": {},
   "outputs": [],
   "source": [
    "df_features['housing'] = df['housing']"
   ]
  },
  {
   "cell_type": "code",
   "execution_count": 87,
   "metadata": {},
   "outputs": [],
   "source": [
    "df_features['housing'] = df_features['housing'].apply(yes_no_encoder) "
   ]
  },
  {
   "cell_type": "code",
   "execution_count": 88,
   "metadata": {},
   "outputs": [
    {
     "name": "stdout",
     "output_type": "stream",
     "text": [
      "  value  perc\n",
      "0   yes  56.6\n",
      "1    no  43.4\n"
     ]
    },
    {
     "data": {
      "image/png": "[encoded data removed]",
      "text/plain": [
       "<Figure size 432x288 with 1 Axes>"
      ]
     },
     "metadata": {
      "needs_background": "light"
     },
     "output_type": "display_data"
    }
   ],
   "source": [
    "sns.countplot(y='housing', data=df)\n",
    "print(value_perc(df['housing']))"
   ]
  },
  {
   "cell_type": "markdown",
   "metadata": {},
   "source": [
    "### Feature: Loan"
   ]
  },
  {
   "cell_type": "code",
   "execution_count": 89,
   "metadata": {},
   "outputs": [
    {
     "data": {
      "text/plain": [
       "0"
      ]
     },
     "execution_count": 89,
     "metadata": {},
     "output_type": "execute_result"
    }
   ],
   "source": [
    "df['loan'].isna().sum()"
   ]
  },
  {
   "cell_type": "code",
   "execution_count": 90,
   "metadata": {},
   "outputs": [],
   "source": [
    "df_features['loan'] = df['loan']\n",
    "\n"
   ]
  },
  {
   "cell_type": "code",
   "execution_count": 92,
   "metadata": {},
   "outputs": [],
   "source": [
    "df_features['loan'] = df_features['loan'].apply(yes_no_encoder)"
   ]
  },
  {
   "cell_type": "code",
   "execution_count": 93,
   "metadata": {},
   "outputs": [
    {
     "data": {
      "text/plain": [
       "<matplotlib.axes._subplots.AxesSubplot at 0x1c45ce3f90>"
      ]
     },
     "execution_count": 93,
     "metadata": {},
     "output_type": "execute_result"
    },
    {
     "data": {
      "image/png": "[encoded data removed]",
      "text/plain": [
       "<Figure size 432x288 with 1 Axes>"
      ]
     },
     "metadata": {
      "needs_background": "light"
     },
     "output_type": "display_data"
    }
   ],
   "source": [
    "sns.countplot(y='loan', data=df)"
   ]
  },
  {
   "cell_type": "markdown",
   "metadata": {},
   "source": [
    "### Feature: Contract"
   ]
  },
  {
   "cell_type": "code",
   "execution_count": 95,
   "metadata": {},
   "outputs": [
    {
     "data": {
      "text/plain": [
       "3"
      ]
     },
     "execution_count": 95,
     "metadata": {},
     "output_type": "execute_result"
    }
   ],
   "source": [
    "df['contact'].isna().sum()"
   ]
  },
  {
   "cell_type": "code",
   "execution_count": 97,
   "metadata": {},
   "outputs": [
    {
     "data": {
      "text/plain": [
       "0    cellular\n",
       "dtype: object"
      ]
     },
     "execution_count": 97,
     "metadata": {},
     "output_type": "execute_result"
    }
   ],
   "source": [
    "df['contact'].mode()"
   ]
  },
  {
   "cell_type": "code",
   "execution_count": 98,
   "metadata": {},
   "outputs": [],
   "source": [
    "df['contact'].replace({np.nan:'cellular'}, inplace = True)"
   ]
  },
  {
   "cell_type": "code",
   "execution_count": 99,
   "metadata": {},
   "outputs": [
    {
     "data": {
      "text/plain": [
       "0"
      ]
     },
     "execution_count": 99,
     "metadata": {},
     "output_type": "execute_result"
    }
   ],
   "source": [
    "df['contact'].isna().sum()"
   ]
  },
  {
   "cell_type": "code",
   "execution_count": 100,
   "metadata": {},
   "outputs": [
    {
     "name": "stdout",
     "output_type": "stream",
     "text": [
      "age\n",
      "[30 33 35 59 36 39 41 43 20 31 40 56 37 25 38 42 44 26 55 67 53 68 32 49\n",
      " 78 23 52 34 61 45 48 57 54 63 51 29 50 27 60 28 21 58 22 46 24 77 75 47\n",
      " 70 65 64 62 66 19 81 83 80 71 72 69 79 73 86 74 76 87 84]\n",
      "------------------------------------------------------------\n",
      "job\n",
      "['unemployed' 'services' 'management' 'blue-collar' 'self-employed'\n",
      " 'technician' 'entrepreneur' 'admin.' 'student' 'housemaid' 'retired'\n",
      " 'unknown']\n",
      "------------------------------------------------------------\n",
      "marital\n",
      "['married' 'single' 'divorced']\n",
      "------------------------------------------------------------\n",
      "education\n",
      "['primary' 'secondary' 'tertiary' 'unknown']\n",
      "------------------------------------------------------------\n",
      "default\n",
      "['no' 'yes']\n",
      "------------------------------------------------------------\n",
      "balance\n",
      "[ 1787.  4789.  1350. ...  -333. -3313.  1137.]\n",
      "------------------------------------------------------------\n",
      "housing\n",
      "['no' 'yes']\n",
      "------------------------------------------------------------\n",
      "loan\n",
      "['no' 'yes']\n",
      "------------------------------------------------------------\n",
      "contact\n",
      "['cellular' 'unknown' 'telephone']\n",
      "------------------------------------------------------------\n",
      "day\n",
      "[19. 11. 16.  3.  5. 23. 14.  6. 17. 20. 13. 30. 29. 27.  7. 18. 12. 21.\n",
      " 26. 22.  2.  4. 15.  8. 28.  9.  1. nan 10. 31. 25. 24.]\n",
      "------------------------------------------------------------\n",
      "month\n",
      "['oct' 'may' 'apr' 'jun' 'feb' 'aug' 'jan' 'jul' 'nov' 'sep' 'mar' 'dec']\n",
      "------------------------------------------------------------\n",
      "duration\n",
      "[  79.  220.  185.  199.  226.  141.  341.  151.   57.  313.  273.  113.\n",
      "  328.  261.   89.  189.  239.  114.  250.  148.   96.  140.  109.  125.\n",
      "  169.  182.  247.  119.  149.   74.  897.   81.   40.  958.  354.  150.\n",
      "   97.  132.  765.   16.  609.  106.  365.  205.   11.  105.   59.  425.\n",
      "  204.  181. 1018. 1740.   98.  441.  272.  159.  295.  314.  579.  554.\n",
      "  323.  227.  134.  223.  155.  130.  630.  164.  268.  380.  154.  221.\n",
      "   67.  367.   87.  701.  652.   63.  398.  224.  406.   60.  521.  279.\n",
      "  203.  201.  372.  391.  165.  231.  291.  233.  473.  736.  337.  553.\n",
      "  345.   65.    9.  259.  371.  280.  243.  435.  258.    7.  317.   nan\n",
      "  170.  386.   83.   69.  564.  588.  779.  281. 1877.   51.   32.  176.\n",
      "  161.  187.   24.   85.  236.   54.   71.  489.   39.  455.   86.  190.\n",
      "   45.  168.  194.  103.  333.  102.   92.  213.  289.   77.  324.   84.\n",
      "   10.   35.   82.  676.   80.  549.  135.  412.  101.  253.  166.   18.\n",
      "  147.   14.   61.  377.  152.  382.  543.  240.   48.  471.  285.  301.\n",
      "  768. 1337.  403.  139.  196.  115.   17.   95.  198.  654.  256.  834.\n",
      "   20.  178.  111.  186.  297.  210.  112.  222.  195.  123.  145.  124.\n",
      "  216.  483.  690.  344.  673.  144.  246.  361.  375. 1097.  180.  373.\n",
      "  230.   58.   88.  487.   29.  484.  262.  644.  699.   49.   64.  121.\n",
      "  197.  331.  138.  312.  120.  526.  211.   62.  988.  451. 1030. 1484.\n",
      "  445.  383.  605.  330.  171.  442.  772.  249.  357.  271.  783.  472.\n",
      "  395.   56.  641.  429.  157.  162.  799. 1370.   22.  215. 1017.  298.\n",
      "  126.    8.  555.  270.  339.  342. 1434.   30.  397.  620.    6.  209.\n",
      "  419.  283.  188.  267.  245. 1065.  207.  456.  131.   94.  567.  153.\n",
      "   53.  234.  108.  208.  597.  505.  332.  212.  493.  681.  287.  202.\n",
      "   37.   72.  325. 1212.  319.  514.  551.  142.  293.  107.  127. 1816.\n",
      "  200.  418.  387.  156.   47.  265.   31.   28.  369.  854.   46.  266.\n",
      "  321.   99.  430.  264.  118.  343.    5.  722.  748.  523.  421.   15.\n",
      "  502.  193.  347.  468.  388. 1735.  172.  117.  587.  501.  282.  110.\n",
      "  104.  378. 1407.  738.   70.  904.  336.  238.  585.   68. 1713.  218.\n",
      "  661.  566.  136.  160.   76.   44.  792.   73.   90.  346.  192.  682.\n",
      "  651.  405.  350.   36.  389. 3025.  219.  427.  533.   19.  819.  278.\n",
      "  617.   34.  668.   75.  146.  356.  251.  352.  184.  568.  260.  447.\n",
      "  426.  174.  284.  428.  237. 1031.  700.  590.   43.   27. 1181.  122.\n",
      "  307.  770.  767.  232.  986.   66.  158.  306.  559.  183.  631. 1282.\n",
      " 1199.  244.   55.  290.  385.  133.   91.   25.  275.  632.  100.   41.\n",
      "  446.  304.  335.  276.   42.  614.  557. 1663.  510. 1259.  225.  404.\n",
      " 1015.  761.  464.  206.  667.  143.  717.   38.  254.  882.  957.  299.\n",
      "  167.  500.  177.  457.  460. 1028.  315.  381.  643.  508.  128.  492.\n",
      "  257.  241.  536.  601. 1168.  277.  364.  229.  402.  175.  255.  820.\n",
      "  116.  463.  603.  191. 2087.  754.  303.  288.  891.  558.  228.  353.\n",
      "  296.  432. 1130.  305.  274.  860.  420.  756.  968.  408.   13.  763.\n",
      "  316.   50.    4.   78.  286.  766.  648.  688.   21.  593.  407.  563.\n",
      "   52.  803.  396.  637.  945. 1178.  506.  409.  327.  618.  936.  329.\n",
      "  179.  731.  670.  318.  415.  137.  349.  263.  671.  452.  163.  586.\n",
      "  650.  610.  747.  252.  883.  684.  686. 1060.  724.  424.  712.  753.\n",
      " 1081.  376.  433.  411. 1083.  757.  524.  653.   93.  503.  217.  475.\n",
      "  340.  242.  530.   23.  935.  773.  423.  626.  578.  248.  528.  785.\n",
      "  952. 1174.  915.  937.  129. 1063.  758.  574.  847. 1558.  789. 1441.\n",
      "  322. 1504.  537.  611.   26.   12.  235.  796. 1126.  697.  931. 1034.\n",
      "  362.  410.  570.  633.  659.  302.  727.  214.  173.  635.  540. 1210.\n",
      "  486.  646.  326.  414.  716.  449.  580.  399. 1029.  755.  619.  606.\n",
      "  971.  348.  594. 1275.  379. 1032.  393.  808.  923.  413.  541.  602.\n",
      "  762.  360.  310.  311.  638.  355.  300.  417.  308.  657.  434.  488.\n",
      " 1309. 1056.  908.  401.  827.  735.  691.  461.  669. 1473. 1386.  294.\n",
      "  910.  550. 1366. 1532.  955.  513. 1236.  809.  482. 1164.  674.  709.\n",
      "  436.  374.  309.  363.  422.  358.  640.  439.  476.  480.  517.  993.\n",
      "   33.  730.  636.  750.  334.  868.  351. 1689.  607.  485. 1021.  732.\n",
      "  577.  733.  788.  863. 1073.  525.  696.  535.  370.  465.  338.  956.\n",
      "  546.  470.  836.  544.  443. 1149.  707. 1451. 1143.  477.  450.  467.\n",
      "  292.  806.  560.  759. 1183.  598.  466.  431.  269.  542.  562.  515.\n",
      " 1165.  547.  780.  916.  474.  509.  679. 1472.  965. 1139.  504.  672.\n",
      "  749.  454.  531.  479.  384.  973.  728.  656.  998.  320.  615.  612.\n",
      "  664.  394.  877. 1971. 1258.  599.  655. 1994.  743.  924.  929.  491.\n",
      "  719.  565. 1529.  390. 1467. 1007.  665.  990.  582.  458.  775.  497.\n",
      "  698.  702.  520. 1156.  884. 1521.  359.  527.  994. 1579.  437. 1225.\n",
      "  865.  569. 1011.  814.  984.  392.  595. 1448.  529. 1006.  622.  494.\n",
      " 1022. 1044.  781. 1124.  400.  516. 1516.  978.  720.  495.  798.  876.\n",
      "  875.  481.  793. 1117. 1223. 1101.  744. 2769.  561.  715.  639.  538.\n",
      " 1721. 1608.  725.  519.  490.  907.  680.  977.  959.  693. 2029. 1009.\n",
      "  718.  805.  623.  976.  600.  469. 1010.  634. 1531.  764.  532.  825.\n",
      "  539.  816.  821. 1231.  742. 2456.  721.  777.  548.  830.  645.  723.\n",
      "  746.  869. 1173.  624.  518.  815.  857.  921.  627.  800.  366. 1088.\n",
      "  812.  866. 1151.  873.  592.  663.  576. 1476.  951. 1234. 1263.  660.]\n",
      "------------------------------------------------------------\n",
      "campaign\n",
      "[ 1  4  2  5  3  6 18 10  9  7 12 14 13 24 11  8 29 32 16 22 15 30 25 21\n",
      " 17 19 23 20 50 28 31 44]\n",
      "------------------------------------------------------------\n",
      "pdays\n",
      "[ -1 339 330 176 147 241 152 105 342 101   5  92  56 170 182 297 196 460\n",
      " 137 367 145 169 207 266 288 168 345 436  90 183 146 335 347 119   7 271\n",
      " 181  88 141 126  61 373 351 242  62  91 308 250 172 265  78  28  79   1\n",
      " 188 167  89 164 462 209 321 254  94 364  96 356 149 363 275 325 341 260\n",
      " 358  87 303  98 327 337 322 102  99 370  84 212  63  81 191 360 332  80\n",
      "  85 247 150 175 382 261 336  58 206 112 199 133 208 253 135 278 140 298\n",
      " 273 124 281 162 323 349 117   2 256 333 116 268 136 198 357 259 353 174\n",
      " 371 205 246  69 315 110 461 184 270 127 187  64 130 346 100 352 808 113\n",
      " 378 292 287 107 293 139 138 193 274  97 103 359 185 674 211 300 334 280\n",
      " 479  95 262 362 225   3 366  60 190 368 122 343 131 365 299 115 316 180\n",
      " 154 313 264 350  73 232 204 143 375 186 344 210 248 177 221 189 104 258\n",
      " 305 171 120 317 178 386 118 404 374 282 179 284 227 291 173 871 238 294\n",
      " 222 435 340 426 239  83 111 415 255 235 244  38 683 329  59 151 192 158\n",
      " 338 388 165 348 197 295 109 484 326 369 397 414 319 474  93 249 272 355\n",
      " 195  82 541 231 153 201 761 114 385 267 161 467  75 106 223 312 148 309\n",
      " 283  86 166 160 450 500 311 123 159 687 224 361  74  76 286  77  57 219\n",
      " 331 804 144 234]\n",
      "------------------------------------------------------------\n",
      "previous\n",
      "[ 0  4  1  3  2  5 20  7  6 10  9  8 18 19 12 13 11 14 15 24 17 22 23 25]\n",
      "------------------------------------------------------------\n",
      "poutcome\n",
      "['unknown' 'failure' 'other' 'success']\n",
      "------------------------------------------------------------\n",
      "y\n",
      "[0 1]\n",
      "------------------------------------------------------------\n"
     ]
    }
   ],
   "source": [
    "for i in df.columns:\n",
    "    print(i)\n",
    "    print(df[i].unique())\n",
    "    print('---'*20)"
   ]
  },
  {
   "cell_type": "code",
   "execution_count": 101,
   "metadata": {},
   "outputs": [],
   "source": [
    "df_features['contact'] = df['contact']"
   ]
  },
  {
   "cell_type": "code",
   "execution_count": 102,
   "metadata": {},
   "outputs": [
    {
     "data": {
      "text/plain": [
       "<matplotlib.axes._subplots.AxesSubplot at 0x1c45e13350>"
      ]
     },
     "execution_count": 102,
     "metadata": {},
     "output_type": "execute_result"
    },
    {
     "data": {
      "image/png": "[encoded data removed]",
      "text/plain": [
       "<Figure size 432x288 with 1 Axes>"
      ]
     },
     "metadata": {
      "needs_background": "light"
     },
     "output_type": "display_data"
    }
   ],
   "source": [
    "sns.countplot(y='contact', data=df_features)"
   ]
  },
  {
   "cell_type": "markdown",
   "metadata": {},
   "source": [
    "### Feature: Day"
   ]
  },
  {
   "cell_type": "code",
   "execution_count": 103,
   "metadata": {},
   "outputs": [
    {
     "data": {
      "text/plain": [
       "1"
      ]
     },
     "execution_count": 103,
     "metadata": {},
     "output_type": "execute_result"
    }
   ],
   "source": [
    "df['day'].isna().sum()"
   ]
  },
  {
   "cell_type": "code",
   "execution_count": 104,
   "metadata": {},
   "outputs": [
    {
     "data": {
      "text/plain": [
       "0    20.0\n",
       "dtype: float64"
      ]
     },
     "execution_count": 104,
     "metadata": {},
     "output_type": "execute_result"
    }
   ],
   "source": [
    "df['day'].mode()"
   ]
  },
  {
   "cell_type": "code",
   "execution_count": 105,
   "metadata": {},
   "outputs": [],
   "source": [
    "df['day'].replace({np.nan:20}, inplace = True)"
   ]
  },
  {
   "cell_type": "code",
   "execution_count": 106,
   "metadata": {},
   "outputs": [],
   "source": [
    "df_features['day'] = df['day']"
   ]
  },
  {
   "cell_type": "code",
   "execution_count": 107,
   "metadata": {},
   "outputs": [
    {
     "name": "stdout",
     "output_type": "stream",
     "text": [
      "Mean number of day:  15.916390179163901\n",
      "Mean number of day:  8.247879795777969\n"
     ]
    },
    {
     "data": {
      "image/png": "[encoded data removed]",
      "text/plain": [
       "<Figure size 432x288 with 1 Axes>"
      ]
     },
     "metadata": {
      "needs_background": "light"
     },
     "output_type": "display_data"
    }
   ],
   "source": [
    "sns.distplot(df_features['day'], kde=False)\n",
    "print(\"Mean number of day: \", df_features['day'].mean())\n",
    "print(\"Mean number of day: \", df_features['day'].std())"
   ]
  },
  {
   "cell_type": "markdown",
   "metadata": {},
   "source": [
    "### Feature: Month"
   ]
  },
  {
   "cell_type": "code",
   "execution_count": 108,
   "metadata": {},
   "outputs": [
    {
     "data": {
      "text/plain": [
       "dtype('O')"
      ]
     },
     "execution_count": 108,
     "metadata": {},
     "output_type": "execute_result"
    }
   ],
   "source": [
    "df['month'].dtype"
   ]
  },
  {
   "cell_type": "code",
   "execution_count": 109,
   "metadata": {},
   "outputs": [
    {
     "data": {
      "text/plain": [
       "0"
      ]
     },
     "execution_count": 109,
     "metadata": {},
     "output_type": "execute_result"
    }
   ],
   "source": [
    "df['month'].isna().sum()"
   ]
  },
  {
   "cell_type": "code",
   "execution_count": 110,
   "metadata": {},
   "outputs": [],
   "source": [
    "df_features['month'] = df['month']"
   ]
  },
  {
   "cell_type": "code",
   "execution_count": 111,
   "metadata": {},
   "outputs": [
    {
     "name": "stdout",
     "output_type": "stream",
     "text": [
      "   value   perc\n",
      "0    may  30.92\n",
      "1    jul  15.62\n",
      "2    aug  14.00\n",
      "3    jun  11.75\n",
      "4    nov   8.60\n",
      "5    apr   6.48\n",
      "6    feb   4.91\n",
      "7    jan   3.27\n",
      "8    oct   1.77\n",
      "9    sep   1.15\n",
      "10   mar   1.08\n",
      "11   dec   0.44\n"
     ]
    },
    {
     "data": {
      "image/png": "[encoded data removed]",
      "text/plain": [
       "<Figure size 432x288 with 1 Axes>"
      ]
     },
     "metadata": {
      "needs_background": "light"
     },
     "output_type": "display_data"
    }
   ],
   "source": [
    "sns.countplot(y='month', data=df_features)\n",
    "print(value_perc(df_features['month']))"
   ]
  },
  {
   "cell_type": "markdown",
   "metadata": {},
   "source": [
    "### Feature: Duration"
   ]
  },
  {
   "cell_type": "code",
   "execution_count": 112,
   "metadata": {},
   "outputs": [
    {
     "data": {
      "text/plain": [
       "dtype('float64')"
      ]
     },
     "execution_count": 112,
     "metadata": {},
     "output_type": "execute_result"
    }
   ],
   "source": [
    "df['duration'].dtype"
   ]
  },
  {
   "cell_type": "code",
   "execution_count": 114,
   "metadata": {},
   "outputs": [
    {
     "data": {
      "text/plain": [
       "2"
      ]
     },
     "execution_count": 114,
     "metadata": {},
     "output_type": "execute_result"
    }
   ],
   "source": [
    "df['duration'].isna().sum()"
   ]
  },
  {
   "cell_type": "code",
   "execution_count": 115,
   "metadata": {},
   "outputs": [
    {
     "data": {
      "text/plain": [
       "0    123.0\n",
       "dtype: float64"
      ]
     },
     "execution_count": 115,
     "metadata": {},
     "output_type": "execute_result"
    }
   ],
   "source": [
    "df['duration'].mode()"
   ]
  },
  {
   "cell_type": "code",
   "execution_count": 116,
   "metadata": {},
   "outputs": [],
   "source": [
    "df['duration'].replace({np.nan:123}, inplace = True)"
   ]
  },
  {
   "cell_type": "code",
   "execution_count": 117,
   "metadata": {},
   "outputs": [
    {
     "data": {
      "text/plain": [
       "0"
      ]
     },
     "execution_count": 117,
     "metadata": {},
     "output_type": "execute_result"
    }
   ],
   "source": [
    "df['duration'].isna().sum()"
   ]
  },
  {
   "cell_type": "code",
   "execution_count": 118,
   "metadata": {},
   "outputs": [],
   "source": [
    "df_features['duration'] = df['duration']"
   ]
  },
  {
   "cell_type": "code",
   "execution_count": 119,
   "metadata": {},
   "outputs": [
    {
     "name": "stdout",
     "output_type": "stream",
     "text": [
      "Mean duration:  263.9225834992258\n",
      "Std.Dev duration:  259.8557117094297\n"
     ]
    },
    {
     "data": {
      "image/png": "[encoded data removed]",
      "text/plain": [
       "<Figure size 432x288 with 1 Axes>"
      ]
     },
     "metadata": {
      "needs_background": "light"
     },
     "output_type": "display_data"
    }
   ],
   "source": [
    "sns.distplot(df_features['duration'])\n",
    "print(\"Mean duration: \", df_features['duration'].mean())\n",
    "print(\"Std.Dev duration: \", df_features['duration'].std())"
   ]
  },
  {
   "cell_type": "markdown",
   "metadata": {},
   "source": [
    "### Feature: Campaign"
   ]
  },
  {
   "cell_type": "code",
   "execution_count": 120,
   "metadata": {},
   "outputs": [
    {
     "data": {
      "text/plain": [
       "dtype('int64')"
      ]
     },
     "execution_count": 120,
     "metadata": {},
     "output_type": "execute_result"
    }
   ],
   "source": [
    "df['campaign'].dtype"
   ]
  },
  {
   "cell_type": "code",
   "execution_count": 121,
   "metadata": {},
   "outputs": [
    {
     "data": {
      "text/plain": [
       "0"
      ]
     },
     "execution_count": 121,
     "metadata": {},
     "output_type": "execute_result"
    }
   ],
   "source": [
    "df['campaign'].isna().sum()"
   ]
  },
  {
   "cell_type": "code",
   "execution_count": 122,
   "metadata": {},
   "outputs": [],
   "source": [
    "df_features['campaign'] = df['campaign']"
   ]
  },
  {
   "cell_type": "code",
   "execution_count": 123,
   "metadata": {},
   "outputs": [
    {
     "data": {
      "text/plain": [
       "<matplotlib.axes._subplots.AxesSubplot at 0x1c4b55d310>"
      ]
     },
     "execution_count": 123,
     "metadata": {},
     "output_type": "execute_result"
    },
    {
     "data": {
      "image/png": "[encoded data removed]",
      "text/plain": [
       "<Figure size 432x288 with 1 Axes>"
      ]
     },
     "metadata": {
      "needs_background": "light"
     },
     "output_type": "display_data"
    }
   ],
   "source": [
    "sns.distplot(df_features['campaign'])"
   ]
  },
  {
   "cell_type": "markdown",
   "metadata": {},
   "source": [
    "### Feature: pdays"
   ]
  },
  {
   "cell_type": "code",
   "execution_count": 126,
   "metadata": {},
   "outputs": [
    {
     "data": {
      "text/plain": [
       "dtype('int64')"
      ]
     },
     "execution_count": 126,
     "metadata": {},
     "output_type": "execute_result"
    }
   ],
   "source": [
    "df['pdays'].dtype"
   ]
  },
  {
   "cell_type": "code",
   "execution_count": 127,
   "metadata": {},
   "outputs": [
    {
     "data": {
      "text/plain": [
       "0"
      ]
     },
     "execution_count": 127,
     "metadata": {},
     "output_type": "execute_result"
    }
   ],
   "source": [
    "df['pdays'].isna().sum()"
   ]
  },
  {
   "cell_type": "code",
   "execution_count": 128,
   "metadata": {},
   "outputs": [],
   "source": [
    "df_features['pdays'] = df['pdays']"
   ]
  },
  {
   "cell_type": "code",
   "execution_count": 129,
   "metadata": {},
   "outputs": [
    {
     "data": {
      "text/plain": [
       "<matplotlib.axes._subplots.AxesSubplot at 0x1c4b69fd50>"
      ]
     },
     "execution_count": 129,
     "metadata": {},
     "output_type": "execute_result"
    },
    {
     "data": {
      "image/png": "[encoded data removed]",
      "text/plain": [
       "<Figure size 432x288 with 1 Axes>"
      ]
     },
     "metadata": {
      "needs_background": "light"
     },
     "output_type": "display_data"
    }
   ],
   "source": [
    "sns.distplot(df_features['pdays'])"
   ]
  },
  {
   "cell_type": "markdown",
   "metadata": {},
   "source": [
    "### Feature: previous"
   ]
  },
  {
   "cell_type": "code",
   "execution_count": 130,
   "metadata": {},
   "outputs": [
    {
     "data": {
      "text/plain": [
       "dtype('int64')"
      ]
     },
     "execution_count": 130,
     "metadata": {},
     "output_type": "execute_result"
    }
   ],
   "source": [
    "df['previous'].dtype"
   ]
  },
  {
   "cell_type": "code",
   "execution_count": 131,
   "metadata": {},
   "outputs": [
    {
     "data": {
      "text/plain": [
       "0"
      ]
     },
     "execution_count": 131,
     "metadata": {},
     "output_type": "execute_result"
    }
   ],
   "source": [
    "df['previous'].isna().sum()"
   ]
  },
  {
   "cell_type": "code",
   "execution_count": 132,
   "metadata": {},
   "outputs": [],
   "source": [
    "df_features['previous'] = df['previous']"
   ]
  },
  {
   "cell_type": "code",
   "execution_count": 133,
   "metadata": {},
   "outputs": [
    {
     "data": {
      "text/plain": [
       "<matplotlib.axes._subplots.AxesSubplot at 0x1c4ae8ebd0>"
      ]
     },
     "execution_count": 133,
     "metadata": {},
     "output_type": "execute_result"
    },
    {
     "data": {
      "image/png": "[encoded data removed]",
      "text/plain": [
       "<Figure size 432x288 with 1 Axes>"
      ]
     },
     "metadata": {
      "needs_background": "light"
     },
     "output_type": "display_data"
    }
   ],
   "source": [
    "sns.distplot(df_features['previous'])"
   ]
  },
  {
   "cell_type": "markdown",
   "metadata": {},
   "source": [
    "### Feature: Poutcome"
   ]
  },
  {
   "cell_type": "code",
   "execution_count": 134,
   "metadata": {},
   "outputs": [
    {
     "data": {
      "text/plain": [
       "dtype('O')"
      ]
     },
     "execution_count": 134,
     "metadata": {},
     "output_type": "execute_result"
    }
   ],
   "source": [
    "df['poutcome'].dtype"
   ]
  },
  {
   "cell_type": "code",
   "execution_count": 135,
   "metadata": {},
   "outputs": [
    {
     "data": {
      "text/plain": [
       "0"
      ]
     },
     "execution_count": 135,
     "metadata": {},
     "output_type": "execute_result"
    }
   ],
   "source": [
    "df['poutcome'].isna().sum()"
   ]
  },
  {
   "cell_type": "code",
   "execution_count": 136,
   "metadata": {},
   "outputs": [],
   "source": [
    "df_features['poutcome']=  df['poutcome']"
   ]
  },
  {
   "cell_type": "code",
   "execution_count": 137,
   "metadata": {},
   "outputs": [
    {
     "data": {
      "text/plain": [
       "<matplotlib.axes._subplots.AxesSubplot at 0x1c4b41e0d0>"
      ]
     },
     "execution_count": 137,
     "metadata": {},
     "output_type": "execute_result"
    },
    {
     "data": {
      "image/png": "[encoded data removed]",
      "text/plain": [
       "<Figure size 432x288 with 1 Axes>"
      ]
     },
     "metadata": {
      "needs_background": "light"
     },
     "output_type": "display_data"
    }
   ],
   "source": [
    "sns.countplot(y='poutcome', data=df_features)"
   ]
  },
  {
   "cell_type": "code",
   "execution_count": 147,
   "metadata": {},
   "outputs": [
    {
     "data": {
      "text/plain": [
       "y            0\n",
       "age          0\n",
       "job          3\n",
       "marital      0\n",
       "education    0\n",
       "default      0\n",
       "balance      0\n",
       "housing      0\n",
       "loan         0\n",
       "contact      0\n",
       "day          0\n",
       "month        0\n",
       "duration     0\n",
       "campaign     0\n",
       "pdays        0\n",
       "previous     0\n",
       "poutcome     0\n",
       "dtype: int64"
      ]
     },
     "execution_count": 147,
     "metadata": {},
     "output_type": "execute_result"
    }
   ],
   "source": [
    "# check for missing values\n",
    "def missing_values(data):\n",
    "    return data.isnull().sum()\n",
    "\n",
    "missing_values(df_features)"
   ]
  },
  {
   "cell_type": "code",
   "execution_count": 139,
   "metadata": {},
   "outputs": [
    {
     "data": {
      "text/plain": [
       "0"
      ]
     },
     "execution_count": 139,
     "metadata": {},
     "output_type": "execute_result"
    }
   ],
   "source": [
    "df['education'].isna().sum()"
   ]
  },
  {
   "cell_type": "code",
   "execution_count": 140,
   "metadata": {},
   "outputs": [
    {
     "data": {
      "text/plain": [
       "dtype('O')"
      ]
     },
     "execution_count": 140,
     "metadata": {},
     "output_type": "execute_result"
    }
   ],
   "source": [
    "df['education'].dtype"
   ]
  },
  {
   "cell_type": "markdown",
   "metadata": {},
   "source": [
    "## Data Preperation"
   ]
  },
  {
   "cell_type": "markdown",
   "metadata": {},
   "source": [
    "### Feature Encoding"
   ]
  },
  {
   "cell_type": "code",
   "execution_count": 148,
   "metadata": {},
   "outputs": [],
   "source": [
    "# get all categorical feature\n",
    "obj_cols = df_features.select_dtypes(include=['object']).columns"
   ]
  },
  {
   "cell_type": "code",
   "execution_count": 149,
   "metadata": {},
   "outputs": [],
   "source": [
    "# get dummies for string features\n",
    "df_features = pd.get_dummies(df_features, columns=obj_cols, drop_first=True)"
   ]
  },
  {
   "cell_type": "markdown",
   "metadata": {},
   "source": [
    "## Train and Test Split"
   ]
  },
  {
   "cell_type": "code",
   "execution_count": 151,
   "metadata": {},
   "outputs": [],
   "source": [
    "y_t = df_features['y']\n",
    "X = df_features.drop(['y'], axis=1)\n"
   ]
  },
  {
   "cell_type": "code",
   "execution_count": 152,
   "metadata": {},
   "outputs": [],
   "source": [
    "X_train, X_test, y_train, y_test = train_test_split(X, y_t, test_size=0.2, random_state=42)\n",
    "X_cols = X_train.columns"
   ]
  },
  {
   "cell_type": "markdown",
   "metadata": {},
   "source": [
    "## Feature Scaling"
   ]
  },
  {
   "cell_type": "code",
   "execution_count": 154,
   "metadata": {},
   "outputs": [],
   "source": [
    "from sklearn.preprocessing import StandardScaler"
   ]
  },
  {
   "cell_type": "code",
   "execution_count": 155,
   "metadata": {},
   "outputs": [],
   "source": [
    "scaler = StandardScaler()\n",
    "X_train = scaler.fit_transform(X_train)\n",
    "X_test = scaler.transform(X_test)"
   ]
  },
  {
   "cell_type": "markdown",
   "metadata": {},
   "source": [
    "## Building the machine learning model"
   ]
  },
  {
   "cell_type": "code",
   "execution_count": 156,
   "metadata": {},
   "outputs": [],
   "source": [
    "# train the model and use it to predict the label for unseen data\n",
    "def fit_ml_algo(algo, X_train, y_train, X_test, y_test):\n",
    "    \n",
    "    model = algo.fit(X_train, y_train)\n",
    "    y_pred = model.predict(X_test)\n",
    "    \n",
    "    acc = round(accuracy_score(y_pred, y_test) * 100, 2)\n",
    "    cf_matrix = confusion_matrix(y_test, y_pred)\n",
    "    precision = precision_score(y_test, y_pred)\n",
    "    recall = precision_score(y_pred, y_test)\n",
    "    f1 = f1_score(y_test, y_pred)\n",
    "     \n",
    "    return acc, cf_matrix, precision, recall, f1, model"
   ]
  },
  {
   "cell_type": "markdown",
   "metadata": {},
   "source": [
    "## Logistic Regression"
   ]
  },
  {
   "cell_type": "code",
   "execution_count": 157,
   "metadata": {},
   "outputs": [
    {
     "name": "stdout",
     "output_type": "stream",
     "text": [
      "Accuracy:  90.17\n",
      "Precision:  0.6\n",
      "Recall:  0.2755102040816326\n",
      "F1 Score:  0.3776223776223776\n"
     ]
    },
    {
     "data": {
      "image/png": "[encoded data removed]",
      "text/plain": [
       "<Figure size 432x288 with 2 Axes>"
      ]
     },
     "metadata": {
      "needs_background": "light"
     },
     "output_type": "display_data"
    }
   ],
   "source": [
    "acc, cf_matrix, precision, recall, f1, model = fit_ml_algo(LogisticRegression(), X_train, y_train, X_test, y_test)\n",
    "ax = sns.heatmap(cf_matrix, annot=True, fmt='g') #notation: \"annot\" not \"annote\"\n",
    "bottom, top = ax.get_ylim()\n",
    "ax.set_ylim(bottom + 0.5, top - 0.5)\n",
    "print(\"Accuracy: \", acc)\n",
    "print(\"Precision: \", precision)\n",
    "print(\"Recall: \", recall)\n",
    "print(\"F1 Score: \", f1)"
   ]
  },
  {
   "cell_type": "markdown",
   "metadata": {},
   "source": [
    "## Random Forest"
   ]
  },
  {
   "cell_type": "code",
   "execution_count": 158,
   "metadata": {},
   "outputs": [
    {
     "name": "stdout",
     "output_type": "stream",
     "text": [
      "Accuracy:  89.5\n",
      "Precision:  0.5405405405405406\n",
      "Recall:  0.20408163265306123\n",
      "F1 Score:  0.2962962962962963\n"
     ]
    },
    {
     "data": {
      "image/png": "[encoded data removed]",
      "text/plain": [
       "<Figure size 432x288 with 2 Axes>"
      ]
     },
     "metadata": {
      "needs_background": "light"
     },
     "output_type": "display_data"
    }
   ],
   "source": [
    "acc, cf_matrix, precision, recall, f1, model = fit_ml_algo(RandomForestClassifier(), X_train, y_train, X_test, y_test)\n",
    "ax = sns.heatmap(cf_matrix, annot=True, fmt='g') #notation: \"annot\" not \"annote\"\n",
    "bottom, top = ax.get_ylim()\n",
    "ax.set_ylim(bottom + 0.5, top - 0.5)\n",
    "print(\"Accuracy: \", acc)\n",
    "print(\"Precision: \", precision)\n",
    "print(\"Recall: \", recall)\n",
    "print(\"F1 Score: \", f1)"
   ]
  },
  {
   "cell_type": "markdown",
   "metadata": {},
   "source": [
    "## SVM"
   ]
  },
  {
   "cell_type": "code",
   "execution_count": 160,
   "metadata": {},
   "outputs": [
    {
     "name": "stdout",
     "output_type": "stream",
     "text": [
      "Accuracy:  90.5\n",
      "Precision:  0.6363636363636364\n",
      "Recall:  0.2857142857142857\n",
      "F1 Score:  0.39436619718309857\n"
     ]
    },
    {
     "data": {
      "image/png": "[encoded data removed]",
      "text/plain": [
       "<Figure size 432x288 with 2 Axes>"
      ]
     },
     "metadata": {
      "needs_background": "light"
     },
     "output_type": "display_data"
    }
   ],
   "source": [
    "acc, cf_matrix, precision, recall, f1, model = fit_ml_algo(LinearSVC(), X_train, y_train, X_test, y_test)\n",
    "ax = sns.heatmap(cf_matrix, annot=True, fmt='g') #notation: \"annot\" not \"annote\"\n",
    "bottom, top = ax.get_ylim()\n",
    "ax.set_ylim(bottom + 0.5, top - 0.5)\n",
    "print(\"Accuracy: \", acc)\n",
    "print(\"Precision: \", precision)\n",
    "print(\"Recall: \", recall)\n",
    "print(\"F1 Score: \", f1)"
   ]
  },
  {
   "cell_type": "markdown",
   "metadata": {},
   "source": [
    "## Gradient Boosting"
   ]
  },
  {
   "cell_type": "code",
   "execution_count": 161,
   "metadata": {},
   "outputs": [
    {
     "name": "stdout",
     "output_type": "stream",
     "text": [
      "Accuracy:  89.83\n",
      "Precision:  0.5517241379310345\n",
      "Recall:  0.32653061224489793\n",
      "F1 Score:  0.41025641025641024\n"
     ]
    },
    {
     "data": {
      "image/png": "[encoded data removed]",
      "text/plain": [
       "<Figure size 432x288 with 2 Axes>"
      ]
     },
     "metadata": {
      "needs_background": "light"
     },
     "output_type": "display_data"
    }
   ],
   "source": [
    "acc, cf_matrix, precision, recall, f1, model = fit_ml_algo(GradientBoostingClassifier(), X_train, y_train, X_test, y_test)\n",
    "ax = sns.heatmap(cf_matrix, annot=True, fmt='g') #notation: \"annot\" not \"annote\"\n",
    "bottom, top = ax.get_ylim()\n",
    "ax.set_ylim(bottom + 0.5, top - 0.5)\n",
    "print(\"Accuracy: \", acc)\n",
    "print(\"Precision: \", precision)\n",
    "print(\"Recall: \", recall)\n",
    "print(\"F1 Score: \", f1)"
   ]
  },
  {
   "cell_type": "markdown",
   "metadata": {},
   "source": [
    "## Adaboost"
   ]
  },
  {
   "cell_type": "code",
   "execution_count": 162,
   "metadata": {},
   "outputs": [
    {
     "name": "stdout",
     "output_type": "stream",
     "text": [
      "Accuracy:  89.72\n",
      "Precision:  0.5384615384615384\n",
      "Recall:  0.35714285714285715\n",
      "F1 Score:  0.4294478527607362\n"
     ]
    },
    {
     "data": {
      "image/png": "[encoded data removed]",
      "text/plain": [
       "<Figure size 432x288 with 2 Axes>"
      ]
     },
     "metadata": {
      "needs_background": "light"
     },
     "output_type": "display_data"
    }
   ],
   "source": [
    "acc, cf_matrix, precision, recall, f1, model = fit_ml_algo(AdaBoostClassifier(n_estimators=100), X_train, y_train, X_test, y_test)\n",
    "ax = sns.heatmap(cf_matrix, annot=True, fmt='g') #notation: \"annot\" not \"annote\"\n",
    "bottom, top = ax.get_ylim()\n",
    "ax.set_ylim(bottom + 0.5, top - 0.5)\n",
    "print(\"Accuracy: \", acc)\n",
    "print(\"Precision: \", precision)\n",
    "print(\"Recall: \", recall)\n",
    "print(\"F1 Score: \", f1)"
   ]
  },
  {
   "cell_type": "code",
   "execution_count": 163,
   "metadata": {},
   "outputs": [
    {
     "data": {
      "text/html": [
       "<div>\n",
       "<style scoped>\n",
       "    .dataframe tbody tr th:only-of-type {\n",
       "        vertical-align: middle;\n",
       "    }\n",
       "\n",
       "    .dataframe tbody tr th {\n",
       "        vertical-align: top;\n",
       "    }\n",
       "\n",
       "    .dataframe thead th {\n",
       "        text-align: right;\n",
       "    }\n",
       "</style>\n",
       "<table border=\"1\" class=\"dataframe\">\n",
       "  <thead>\n",
       "    <tr style=\"text-align: right;\">\n",
       "      <th></th>\n",
       "      <th>feature</th>\n",
       "      <th>Importance</th>\n",
       "    </tr>\n",
       "  </thead>\n",
       "  <tbody>\n",
       "    <tr>\n",
       "      <td>0</td>\n",
       "      <td>age</td>\n",
       "      <td>0.09</td>\n",
       "    </tr>\n",
       "    <tr>\n",
       "      <td>1</td>\n",
       "      <td>default</td>\n",
       "      <td>0.01</td>\n",
       "    </tr>\n",
       "    <tr>\n",
       "      <td>2</td>\n",
       "      <td>balance</td>\n",
       "      <td>0.12</td>\n",
       "    </tr>\n",
       "    <tr>\n",
       "      <td>3</td>\n",
       "      <td>housing</td>\n",
       "      <td>0.01</td>\n",
       "    </tr>\n",
       "    <tr>\n",
       "      <td>4</td>\n",
       "      <td>loan</td>\n",
       "      <td>0.01</td>\n",
       "    </tr>\n",
       "    <tr>\n",
       "      <td>5</td>\n",
       "      <td>day</td>\n",
       "      <td>0.06</td>\n",
       "    </tr>\n",
       "    <tr>\n",
       "      <td>6</td>\n",
       "      <td>duration</td>\n",
       "      <td>0.29</td>\n",
       "    </tr>\n",
       "    <tr>\n",
       "      <td>7</td>\n",
       "      <td>campaign</td>\n",
       "      <td>0.05</td>\n",
       "    </tr>\n",
       "    <tr>\n",
       "      <td>8</td>\n",
       "      <td>pdays</td>\n",
       "      <td>0.10</td>\n",
       "    </tr>\n",
       "    <tr>\n",
       "      <td>9</td>\n",
       "      <td>previous</td>\n",
       "      <td>0.04</td>\n",
       "    </tr>\n",
       "    <tr>\n",
       "      <td>10</td>\n",
       "      <td>job_blue-collar</td>\n",
       "      <td>0.01</td>\n",
       "    </tr>\n",
       "    <tr>\n",
       "      <td>11</td>\n",
       "      <td>job_entrepreneur</td>\n",
       "      <td>0.01</td>\n",
       "    </tr>\n",
       "    <tr>\n",
       "      <td>12</td>\n",
       "      <td>job_housemaid</td>\n",
       "      <td>0.00</td>\n",
       "    </tr>\n",
       "    <tr>\n",
       "      <td>13</td>\n",
       "      <td>job_management</td>\n",
       "      <td>0.00</td>\n",
       "    </tr>\n",
       "    <tr>\n",
       "      <td>14</td>\n",
       "      <td>job_retired</td>\n",
       "      <td>0.00</td>\n",
       "    </tr>\n",
       "    <tr>\n",
       "      <td>15</td>\n",
       "      <td>job_self-employed</td>\n",
       "      <td>0.00</td>\n",
       "    </tr>\n",
       "    <tr>\n",
       "      <td>16</td>\n",
       "      <td>job_services</td>\n",
       "      <td>0.00</td>\n",
       "    </tr>\n",
       "    <tr>\n",
       "      <td>17</td>\n",
       "      <td>job_student</td>\n",
       "      <td>0.00</td>\n",
       "    </tr>\n",
       "    <tr>\n",
       "      <td>18</td>\n",
       "      <td>job_technician</td>\n",
       "      <td>0.01</td>\n",
       "    </tr>\n",
       "    <tr>\n",
       "      <td>19</td>\n",
       "      <td>job_unemployed</td>\n",
       "      <td>0.01</td>\n",
       "    </tr>\n",
       "    <tr>\n",
       "      <td>20</td>\n",
       "      <td>job_unknown</td>\n",
       "      <td>0.00</td>\n",
       "    </tr>\n",
       "    <tr>\n",
       "      <td>21</td>\n",
       "      <td>marital_married</td>\n",
       "      <td>0.01</td>\n",
       "    </tr>\n",
       "    <tr>\n",
       "      <td>22</td>\n",
       "      <td>marital_single</td>\n",
       "      <td>0.01</td>\n",
       "    </tr>\n",
       "    <tr>\n",
       "      <td>23</td>\n",
       "      <td>education_secondary</td>\n",
       "      <td>0.01</td>\n",
       "    </tr>\n",
       "    <tr>\n",
       "      <td>24</td>\n",
       "      <td>education_tertiary</td>\n",
       "      <td>0.01</td>\n",
       "    </tr>\n",
       "    <tr>\n",
       "      <td>25</td>\n",
       "      <td>education_unknown</td>\n",
       "      <td>0.01</td>\n",
       "    </tr>\n",
       "    <tr>\n",
       "      <td>26</td>\n",
       "      <td>contact_telephone</td>\n",
       "      <td>0.00</td>\n",
       "    </tr>\n",
       "    <tr>\n",
       "      <td>27</td>\n",
       "      <td>contact_unknown</td>\n",
       "      <td>0.01</td>\n",
       "    </tr>\n",
       "    <tr>\n",
       "      <td>28</td>\n",
       "      <td>month_aug</td>\n",
       "      <td>0.00</td>\n",
       "    </tr>\n",
       "    <tr>\n",
       "      <td>29</td>\n",
       "      <td>month_dec</td>\n",
       "      <td>0.00</td>\n",
       "    </tr>\n",
       "    <tr>\n",
       "      <td>30</td>\n",
       "      <td>month_feb</td>\n",
       "      <td>0.01</td>\n",
       "    </tr>\n",
       "    <tr>\n",
       "      <td>31</td>\n",
       "      <td>month_jan</td>\n",
       "      <td>0.01</td>\n",
       "    </tr>\n",
       "    <tr>\n",
       "      <td>32</td>\n",
       "      <td>month_jul</td>\n",
       "      <td>0.01</td>\n",
       "    </tr>\n",
       "    <tr>\n",
       "      <td>33</td>\n",
       "      <td>month_jun</td>\n",
       "      <td>0.01</td>\n",
       "    </tr>\n",
       "    <tr>\n",
       "      <td>34</td>\n",
       "      <td>month_mar</td>\n",
       "      <td>0.01</td>\n",
       "    </tr>\n",
       "    <tr>\n",
       "      <td>35</td>\n",
       "      <td>month_may</td>\n",
       "      <td>0.01</td>\n",
       "    </tr>\n",
       "    <tr>\n",
       "      <td>36</td>\n",
       "      <td>month_nov</td>\n",
       "      <td>0.01</td>\n",
       "    </tr>\n",
       "    <tr>\n",
       "      <td>37</td>\n",
       "      <td>month_oct</td>\n",
       "      <td>0.01</td>\n",
       "    </tr>\n",
       "    <tr>\n",
       "      <td>38</td>\n",
       "      <td>month_sep</td>\n",
       "      <td>0.01</td>\n",
       "    </tr>\n",
       "    <tr>\n",
       "      <td>39</td>\n",
       "      <td>poutcome_other</td>\n",
       "      <td>0.01</td>\n",
       "    </tr>\n",
       "    <tr>\n",
       "      <td>40</td>\n",
       "      <td>poutcome_success</td>\n",
       "      <td>0.02</td>\n",
       "    </tr>\n",
       "    <tr>\n",
       "      <td>41</td>\n",
       "      <td>poutcome_unknown</td>\n",
       "      <td>0.00</td>\n",
       "    </tr>\n",
       "  </tbody>\n",
       "</table>\n",
       "</div>"
      ],
      "text/plain": [
       "                feature  Importance\n",
       "0                   age        0.09\n",
       "1               default        0.01\n",
       "2               balance        0.12\n",
       "3               housing        0.01\n",
       "4                  loan        0.01\n",
       "5                   day        0.06\n",
       "6              duration        0.29\n",
       "7              campaign        0.05\n",
       "8                 pdays        0.10\n",
       "9              previous        0.04\n",
       "10      job_blue-collar        0.01\n",
       "11     job_entrepreneur        0.01\n",
       "12        job_housemaid        0.00\n",
       "13       job_management        0.00\n",
       "14          job_retired        0.00\n",
       "15    job_self-employed        0.00\n",
       "16         job_services        0.00\n",
       "17          job_student        0.00\n",
       "18       job_technician        0.01\n",
       "19       job_unemployed        0.01\n",
       "20          job_unknown        0.00\n",
       "21      marital_married        0.01\n",
       "22       marital_single        0.01\n",
       "23  education_secondary        0.01\n",
       "24   education_tertiary        0.01\n",
       "25    education_unknown        0.01\n",
       "26    contact_telephone        0.00\n",
       "27      contact_unknown        0.01\n",
       "28            month_aug        0.00\n",
       "29            month_dec        0.00\n",
       "30            month_feb        0.01\n",
       "31            month_jan        0.01\n",
       "32            month_jul        0.01\n",
       "33            month_jun        0.01\n",
       "34            month_mar        0.01\n",
       "35            month_may        0.01\n",
       "36            month_nov        0.01\n",
       "37            month_oct        0.01\n",
       "38            month_sep        0.01\n",
       "39       poutcome_other        0.01\n",
       "40     poutcome_success        0.02\n",
       "41     poutcome_unknown        0.00"
      ]
     },
     "execution_count": 163,
     "metadata": {},
     "output_type": "execute_result"
    }
   ],
   "source": [
    "pd.DataFrame({'feature': X_cols, 'Importance': model.feature_importances_})"
   ]
  },
  {
   "cell_type": "code",
   "execution_count": null,
   "metadata": {},
   "outputs": [],
   "source": []
  }
 ],
 "metadata": {
  "kernelspec": {
   "display_name": "Python 3",
   "language": "python",
   "name": "python3"
  },
  "language_info": {
   "codemirror_mode": {
    "name": "ipython",
    "version": 3
   },
   "file_extension": ".py",
   "mimetype": "text/x-python",
   "name": "python",
   "nbconvert_exporter": "python",
   "pygments_lexer": "ipython3",
   "version": "3.7.4"
  }
 },
 "nbformat": 4,
 "nbformat_minor": 2
}
